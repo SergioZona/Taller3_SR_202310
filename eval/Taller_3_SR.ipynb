{
 "cells": [
  {
   "cell_type": "markdown",
   "metadata": {
    "id": "BTbf5zFGlErX"
   },
   "source": [
    "# **Taller 3**\n",
    "### **Integrantes:**\n",
    "* Diego Felipe Carvajal Lombo (201911910)\n",
    "* Brenda Catalina Barahona Pinilla (201812721)\n",
    "* Sergio Julian Zona Moreno (201914936)\n"
   ]
  },
  {
   "cell_type": "markdown",
   "metadata": {
    "id": "B5Xa_zwZlO86"
   },
   "source": [
    "# **Carga y muestreo de los datos**"
   ]
  },
  {
   "cell_type": "code",
   "execution_count": 2,
   "metadata": {
    "id": "5O1xT5JMlIZn"
   },
   "outputs": [],
   "source": [
    "# Libraries\n",
    "seed = 2023\n",
    "import pandas as pd\n",
    "import numpy as np\n",
    "import sqlite3\n",
    "import numpy as np"
   ]
  },
  {
   "cell_type": "code",
   "execution_count": 3,
   "metadata": {},
   "outputs": [],
   "source": [
    "# Dependencias\n",
    "# !apt-get install -y build-essential\n",
    "# !apt-get install manpages-dev\n",
    "# !apt-get install -y gcc\n",
    "# !pip install -U scikit-learn\n",
    "# !pip install scikit-surprise requests tmdbsimple"
   ]
  },
  {
   "cell_type": "markdown",
   "metadata": {
    "id": "ivUJBnWIlaS3"
   },
   "source": [
    "## **Carga de datos**"
   ]
  },
  {
   "cell_type": "code",
   "execution_count": 4,
   "metadata": {
    "id": "n7b-WuBfDDuU"
   },
   "outputs": [],
   "source": [
    "# Read a portion of the CSV file into a pandas DataFrame\n",
    "def load_csv(path):    \n",
    "    #chunk_size = 50000\n",
    "    df = pd.read_csv(path, encoding='utf-8')\n",
    "    return df"
   ]
  },
  {
   "cell_type": "code",
   "execution_count": 5,
   "metadata": {
    "colab": {
     "base_uri": "https://localhost:8080/",
     "height": 423
    },
    "id": "hE3w0JlID9Ib",
    "outputId": "76b4267c-aeec-42bc-ff9b-0aea30ec6e21"
   },
   "outputs": [
    {
     "data": {
      "text/html": [
       "<div>\n",
       "<style scoped>\n",
       "    .dataframe tbody tr th:only-of-type {\n",
       "        vertical-align: middle;\n",
       "    }\n",
       "\n",
       "    .dataframe tbody tr th {\n",
       "        vertical-align: top;\n",
       "    }\n",
       "\n",
       "    .dataframe thead th {\n",
       "        text-align: right;\n",
       "    }\n",
       "</style>\n",
       "<table border=\"1\" class=\"dataframe\">\n",
       "  <thead>\n",
       "    <tr style=\"text-align: right;\">\n",
       "      <th></th>\n",
       "      <th>movieId</th>\n",
       "      <th>imdbId</th>\n",
       "      <th>tmdbId</th>\n",
       "    </tr>\n",
       "  </thead>\n",
       "  <tbody>\n",
       "    <tr>\n",
       "      <th>0</th>\n",
       "      <td>1</td>\n",
       "      <td>114709</td>\n",
       "      <td>862.0</td>\n",
       "    </tr>\n",
       "    <tr>\n",
       "      <th>1</th>\n",
       "      <td>2</td>\n",
       "      <td>113497</td>\n",
       "      <td>8844.0</td>\n",
       "    </tr>\n",
       "    <tr>\n",
       "      <th>2</th>\n",
       "      <td>3</td>\n",
       "      <td>113228</td>\n",
       "      <td>15602.0</td>\n",
       "    </tr>\n",
       "    <tr>\n",
       "      <th>3</th>\n",
       "      <td>4</td>\n",
       "      <td>114885</td>\n",
       "      <td>31357.0</td>\n",
       "    </tr>\n",
       "    <tr>\n",
       "      <th>4</th>\n",
       "      <td>5</td>\n",
       "      <td>113041</td>\n",
       "      <td>11862.0</td>\n",
       "    </tr>\n",
       "    <tr>\n",
       "      <th>...</th>\n",
       "      <td>...</td>\n",
       "      <td>...</td>\n",
       "      <td>...</td>\n",
       "    </tr>\n",
       "    <tr>\n",
       "      <th>9737</th>\n",
       "      <td>193581</td>\n",
       "      <td>5476944</td>\n",
       "      <td>432131.0</td>\n",
       "    </tr>\n",
       "    <tr>\n",
       "      <th>9738</th>\n",
       "      <td>193583</td>\n",
       "      <td>5914996</td>\n",
       "      <td>445030.0</td>\n",
       "    </tr>\n",
       "    <tr>\n",
       "      <th>9739</th>\n",
       "      <td>193585</td>\n",
       "      <td>6397426</td>\n",
       "      <td>479308.0</td>\n",
       "    </tr>\n",
       "    <tr>\n",
       "      <th>9740</th>\n",
       "      <td>193587</td>\n",
       "      <td>8391976</td>\n",
       "      <td>483455.0</td>\n",
       "    </tr>\n",
       "    <tr>\n",
       "      <th>9741</th>\n",
       "      <td>193609</td>\n",
       "      <td>101726</td>\n",
       "      <td>37891.0</td>\n",
       "    </tr>\n",
       "  </tbody>\n",
       "</table>\n",
       "<p>9742 rows × 3 columns</p>\n",
       "</div>"
      ],
      "text/plain": [
       "      movieId   imdbId    tmdbId\n",
       "0           1   114709     862.0\n",
       "1           2   113497    8844.0\n",
       "2           3   113228   15602.0\n",
       "3           4   114885   31357.0\n",
       "4           5   113041   11862.0\n",
       "...       ...      ...       ...\n",
       "9737   193581  5476944  432131.0\n",
       "9738   193583  5914996  445030.0\n",
       "9739   193585  6397426  479308.0\n",
       "9740   193587  8391976  483455.0\n",
       "9741   193609   101726   37891.0\n",
       "\n",
       "[9742 rows x 3 columns]"
      ]
     },
     "execution_count": 5,
     "metadata": {},
     "output_type": "execute_result"
    }
   ],
   "source": [
    "df_links = load_csv('content/links.csv')\n",
    "df_links"
   ]
  },
  {
   "cell_type": "code",
   "execution_count": 6,
   "metadata": {
    "colab": {
     "base_uri": "https://localhost:8080/",
     "height": 423
    },
    "id": "iwykhtIsEIzD",
    "outputId": "2e5e5617-eba8-4275-ffdd-f8651d65ee7c"
   },
   "outputs": [
    {
     "data": {
      "text/html": [
       "<div>\n",
       "<style scoped>\n",
       "    .dataframe tbody tr th:only-of-type {\n",
       "        vertical-align: middle;\n",
       "    }\n",
       "\n",
       "    .dataframe tbody tr th {\n",
       "        vertical-align: top;\n",
       "    }\n",
       "\n",
       "    .dataframe thead th {\n",
       "        text-align: right;\n",
       "    }\n",
       "</style>\n",
       "<table border=\"1\" class=\"dataframe\">\n",
       "  <thead>\n",
       "    <tr style=\"text-align: right;\">\n",
       "      <th></th>\n",
       "      <th>movieId</th>\n",
       "      <th>title</th>\n",
       "      <th>genres</th>\n",
       "    </tr>\n",
       "  </thead>\n",
       "  <tbody>\n",
       "    <tr>\n",
       "      <th>0</th>\n",
       "      <td>1</td>\n",
       "      <td>Toy Story (1995)</td>\n",
       "      <td>Adventure|Animation|Children|Comedy|Fantasy</td>\n",
       "    </tr>\n",
       "    <tr>\n",
       "      <th>1</th>\n",
       "      <td>2</td>\n",
       "      <td>Jumanji (1995)</td>\n",
       "      <td>Adventure|Children|Fantasy</td>\n",
       "    </tr>\n",
       "    <tr>\n",
       "      <th>2</th>\n",
       "      <td>3</td>\n",
       "      <td>Grumpier Old Men (1995)</td>\n",
       "      <td>Comedy|Romance</td>\n",
       "    </tr>\n",
       "    <tr>\n",
       "      <th>3</th>\n",
       "      <td>4</td>\n",
       "      <td>Waiting to Exhale (1995)</td>\n",
       "      <td>Comedy|Drama|Romance</td>\n",
       "    </tr>\n",
       "    <tr>\n",
       "      <th>4</th>\n",
       "      <td>5</td>\n",
       "      <td>Father of the Bride Part II (1995)</td>\n",
       "      <td>Comedy</td>\n",
       "    </tr>\n",
       "    <tr>\n",
       "      <th>...</th>\n",
       "      <td>...</td>\n",
       "      <td>...</td>\n",
       "      <td>...</td>\n",
       "    </tr>\n",
       "    <tr>\n",
       "      <th>9737</th>\n",
       "      <td>193581</td>\n",
       "      <td>Black Butler: Book of the Atlantic (2017)</td>\n",
       "      <td>Action|Animation|Comedy|Fantasy</td>\n",
       "    </tr>\n",
       "    <tr>\n",
       "      <th>9738</th>\n",
       "      <td>193583</td>\n",
       "      <td>No Game No Life: Zero (2017)</td>\n",
       "      <td>Animation|Comedy|Fantasy</td>\n",
       "    </tr>\n",
       "    <tr>\n",
       "      <th>9739</th>\n",
       "      <td>193585</td>\n",
       "      <td>Flint (2017)</td>\n",
       "      <td>Drama</td>\n",
       "    </tr>\n",
       "    <tr>\n",
       "      <th>9740</th>\n",
       "      <td>193587</td>\n",
       "      <td>Bungo Stray Dogs: Dead Apple (2018)</td>\n",
       "      <td>Action|Animation</td>\n",
       "    </tr>\n",
       "    <tr>\n",
       "      <th>9741</th>\n",
       "      <td>193609</td>\n",
       "      <td>Andrew Dice Clay: Dice Rules (1991)</td>\n",
       "      <td>Comedy</td>\n",
       "    </tr>\n",
       "  </tbody>\n",
       "</table>\n",
       "<p>9742 rows × 3 columns</p>\n",
       "</div>"
      ],
      "text/plain": [
       "      movieId                                      title  \\\n",
       "0           1                           Toy Story (1995)   \n",
       "1           2                             Jumanji (1995)   \n",
       "2           3                    Grumpier Old Men (1995)   \n",
       "3           4                   Waiting to Exhale (1995)   \n",
       "4           5         Father of the Bride Part II (1995)   \n",
       "...       ...                                        ...   \n",
       "9737   193581  Black Butler: Book of the Atlantic (2017)   \n",
       "9738   193583               No Game No Life: Zero (2017)   \n",
       "9739   193585                               Flint (2017)   \n",
       "9740   193587        Bungo Stray Dogs: Dead Apple (2018)   \n",
       "9741   193609        Andrew Dice Clay: Dice Rules (1991)   \n",
       "\n",
       "                                           genres  \n",
       "0     Adventure|Animation|Children|Comedy|Fantasy  \n",
       "1                      Adventure|Children|Fantasy  \n",
       "2                                  Comedy|Romance  \n",
       "3                            Comedy|Drama|Romance  \n",
       "4                                          Comedy  \n",
       "...                                           ...  \n",
       "9737              Action|Animation|Comedy|Fantasy  \n",
       "9738                     Animation|Comedy|Fantasy  \n",
       "9739                                        Drama  \n",
       "9740                             Action|Animation  \n",
       "9741                                       Comedy  \n",
       "\n",
       "[9742 rows x 3 columns]"
      ]
     },
     "execution_count": 6,
     "metadata": {},
     "output_type": "execute_result"
    }
   ],
   "source": [
    "df_movies = load_csv('content/movies.csv')\n",
    "df_movies"
   ]
  },
  {
   "cell_type": "code",
   "execution_count": 7,
   "metadata": {
    "colab": {
     "base_uri": "https://localhost:8080/",
     "height": 423
    },
    "id": "RVaOz0qlEQHg",
    "outputId": "878fffe4-bf4f-4a3b-c271-fd41aa1a0e5a"
   },
   "outputs": [
    {
     "data": {
      "text/html": [
       "<div>\n",
       "<style scoped>\n",
       "    .dataframe tbody tr th:only-of-type {\n",
       "        vertical-align: middle;\n",
       "    }\n",
       "\n",
       "    .dataframe tbody tr th {\n",
       "        vertical-align: top;\n",
       "    }\n",
       "\n",
       "    .dataframe thead th {\n",
       "        text-align: right;\n",
       "    }\n",
       "</style>\n",
       "<table border=\"1\" class=\"dataframe\">\n",
       "  <thead>\n",
       "    <tr style=\"text-align: right;\">\n",
       "      <th></th>\n",
       "      <th>userId</th>\n",
       "      <th>movieId</th>\n",
       "      <th>rating</th>\n",
       "      <th>timestamp</th>\n",
       "    </tr>\n",
       "  </thead>\n",
       "  <tbody>\n",
       "    <tr>\n",
       "      <th>0</th>\n",
       "      <td>1</td>\n",
       "      <td>1</td>\n",
       "      <td>4.0</td>\n",
       "      <td>964982703</td>\n",
       "    </tr>\n",
       "    <tr>\n",
       "      <th>1</th>\n",
       "      <td>1</td>\n",
       "      <td>3</td>\n",
       "      <td>4.0</td>\n",
       "      <td>964981247</td>\n",
       "    </tr>\n",
       "    <tr>\n",
       "      <th>2</th>\n",
       "      <td>1</td>\n",
       "      <td>6</td>\n",
       "      <td>4.0</td>\n",
       "      <td>964982224</td>\n",
       "    </tr>\n",
       "    <tr>\n",
       "      <th>3</th>\n",
       "      <td>1</td>\n",
       "      <td>47</td>\n",
       "      <td>5.0</td>\n",
       "      <td>964983815</td>\n",
       "    </tr>\n",
       "    <tr>\n",
       "      <th>4</th>\n",
       "      <td>1</td>\n",
       "      <td>50</td>\n",
       "      <td>5.0</td>\n",
       "      <td>964982931</td>\n",
       "    </tr>\n",
       "    <tr>\n",
       "      <th>...</th>\n",
       "      <td>...</td>\n",
       "      <td>...</td>\n",
       "      <td>...</td>\n",
       "      <td>...</td>\n",
       "    </tr>\n",
       "    <tr>\n",
       "      <th>100831</th>\n",
       "      <td>610</td>\n",
       "      <td>166534</td>\n",
       "      <td>4.0</td>\n",
       "      <td>1493848402</td>\n",
       "    </tr>\n",
       "    <tr>\n",
       "      <th>100832</th>\n",
       "      <td>610</td>\n",
       "      <td>168248</td>\n",
       "      <td>5.0</td>\n",
       "      <td>1493850091</td>\n",
       "    </tr>\n",
       "    <tr>\n",
       "      <th>100833</th>\n",
       "      <td>610</td>\n",
       "      <td>168250</td>\n",
       "      <td>5.0</td>\n",
       "      <td>1494273047</td>\n",
       "    </tr>\n",
       "    <tr>\n",
       "      <th>100834</th>\n",
       "      <td>610</td>\n",
       "      <td>168252</td>\n",
       "      <td>5.0</td>\n",
       "      <td>1493846352</td>\n",
       "    </tr>\n",
       "    <tr>\n",
       "      <th>100835</th>\n",
       "      <td>610</td>\n",
       "      <td>170875</td>\n",
       "      <td>3.0</td>\n",
       "      <td>1493846415</td>\n",
       "    </tr>\n",
       "  </tbody>\n",
       "</table>\n",
       "<p>100836 rows × 4 columns</p>\n",
       "</div>"
      ],
      "text/plain": [
       "        userId  movieId  rating   timestamp\n",
       "0            1        1     4.0   964982703\n",
       "1            1        3     4.0   964981247\n",
       "2            1        6     4.0   964982224\n",
       "3            1       47     5.0   964983815\n",
       "4            1       50     5.0   964982931\n",
       "...        ...      ...     ...         ...\n",
       "100831     610   166534     4.0  1493848402\n",
       "100832     610   168248     5.0  1493850091\n",
       "100833     610   168250     5.0  1494273047\n",
       "100834     610   168252     5.0  1493846352\n",
       "100835     610   170875     3.0  1493846415\n",
       "\n",
       "[100836 rows x 4 columns]"
      ]
     },
     "execution_count": 7,
     "metadata": {},
     "output_type": "execute_result"
    }
   ],
   "source": [
    "df_ratings = load_csv('content/ratings.csv')\n",
    "df_ratings"
   ]
  },
  {
   "cell_type": "code",
   "execution_count": 8,
   "metadata": {
    "colab": {
     "base_uri": "https://localhost:8080/",
     "height": 423
    },
    "id": "UqZ3xaVrEY_l",
    "outputId": "c21cd4b0-f4df-44ad-cee5-36ab306769fd"
   },
   "outputs": [
    {
     "data": {
      "text/html": [
       "<div>\n",
       "<style scoped>\n",
       "    .dataframe tbody tr th:only-of-type {\n",
       "        vertical-align: middle;\n",
       "    }\n",
       "\n",
       "    .dataframe tbody tr th {\n",
       "        vertical-align: top;\n",
       "    }\n",
       "\n",
       "    .dataframe thead th {\n",
       "        text-align: right;\n",
       "    }\n",
       "</style>\n",
       "<table border=\"1\" class=\"dataframe\">\n",
       "  <thead>\n",
       "    <tr style=\"text-align: right;\">\n",
       "      <th></th>\n",
       "      <th>userId</th>\n",
       "      <th>movieId</th>\n",
       "      <th>tag</th>\n",
       "      <th>timestamp</th>\n",
       "    </tr>\n",
       "  </thead>\n",
       "  <tbody>\n",
       "    <tr>\n",
       "      <th>0</th>\n",
       "      <td>2</td>\n",
       "      <td>60756</td>\n",
       "      <td>funny</td>\n",
       "      <td>1445714994</td>\n",
       "    </tr>\n",
       "    <tr>\n",
       "      <th>1</th>\n",
       "      <td>2</td>\n",
       "      <td>60756</td>\n",
       "      <td>Highly quotable</td>\n",
       "      <td>1445714996</td>\n",
       "    </tr>\n",
       "    <tr>\n",
       "      <th>2</th>\n",
       "      <td>2</td>\n",
       "      <td>60756</td>\n",
       "      <td>will ferrell</td>\n",
       "      <td>1445714992</td>\n",
       "    </tr>\n",
       "    <tr>\n",
       "      <th>3</th>\n",
       "      <td>2</td>\n",
       "      <td>89774</td>\n",
       "      <td>Boxing story</td>\n",
       "      <td>1445715207</td>\n",
       "    </tr>\n",
       "    <tr>\n",
       "      <th>4</th>\n",
       "      <td>2</td>\n",
       "      <td>89774</td>\n",
       "      <td>MMA</td>\n",
       "      <td>1445715200</td>\n",
       "    </tr>\n",
       "    <tr>\n",
       "      <th>...</th>\n",
       "      <td>...</td>\n",
       "      <td>...</td>\n",
       "      <td>...</td>\n",
       "      <td>...</td>\n",
       "    </tr>\n",
       "    <tr>\n",
       "      <th>3678</th>\n",
       "      <td>606</td>\n",
       "      <td>7382</td>\n",
       "      <td>for katie</td>\n",
       "      <td>1171234019</td>\n",
       "    </tr>\n",
       "    <tr>\n",
       "      <th>3679</th>\n",
       "      <td>606</td>\n",
       "      <td>7936</td>\n",
       "      <td>austere</td>\n",
       "      <td>1173392334</td>\n",
       "    </tr>\n",
       "    <tr>\n",
       "      <th>3680</th>\n",
       "      <td>610</td>\n",
       "      <td>3265</td>\n",
       "      <td>gun fu</td>\n",
       "      <td>1493843984</td>\n",
       "    </tr>\n",
       "    <tr>\n",
       "      <th>3681</th>\n",
       "      <td>610</td>\n",
       "      <td>3265</td>\n",
       "      <td>heroic bloodshed</td>\n",
       "      <td>1493843978</td>\n",
       "    </tr>\n",
       "    <tr>\n",
       "      <th>3682</th>\n",
       "      <td>610</td>\n",
       "      <td>168248</td>\n",
       "      <td>Heroic Bloodshed</td>\n",
       "      <td>1493844270</td>\n",
       "    </tr>\n",
       "  </tbody>\n",
       "</table>\n",
       "<p>3683 rows × 4 columns</p>\n",
       "</div>"
      ],
      "text/plain": [
       "      userId  movieId               tag   timestamp\n",
       "0          2    60756             funny  1445714994\n",
       "1          2    60756   Highly quotable  1445714996\n",
       "2          2    60756      will ferrell  1445714992\n",
       "3          2    89774      Boxing story  1445715207\n",
       "4          2    89774               MMA  1445715200\n",
       "...      ...      ...               ...         ...\n",
       "3678     606     7382         for katie  1171234019\n",
       "3679     606     7936           austere  1173392334\n",
       "3680     610     3265            gun fu  1493843984\n",
       "3681     610     3265  heroic bloodshed  1493843978\n",
       "3682     610   168248  Heroic Bloodshed  1493844270\n",
       "\n",
       "[3683 rows x 4 columns]"
      ]
     },
     "execution_count": 8,
     "metadata": {},
     "output_type": "execute_result"
    }
   ],
   "source": [
    "df_tags = load_csv('content/tags.csv')\n",
    "df_tags"
   ]
  },
  {
   "cell_type": "code",
   "execution_count": 9,
   "metadata": {
    "colab": {
     "base_uri": "https://localhost:8080/"
    },
    "id": "pgGv3SuuE4ds",
    "outputId": "5370ad9b-0e49-408a-ac06-6cd31430fef6"
   },
   "outputs": [
    {
     "name": "stdout",
     "output_type": "stream",
     "text": [
      "Links: ['movieId', 'imdbId', 'tmdbId']\n",
      "----------------------------------------\n",
      "Movies: ['movieId', 'title', 'genres']\n",
      "----------------------------------------\n",
      "Ratings: ['userId', 'movieId', 'rating', 'timestamp']\n",
      "----------------------------------------\n",
      "Tags: ['userId', 'movieId', 'tag', 'timestamp']\n"
     ]
    }
   ],
   "source": [
    "# Columnas de cada DF\n",
    "print(\"Links:\", df_links.columns.tolist())\n",
    "print(\"----------------------------------------\")\n",
    "print(\"Movies:\", df_movies.columns.tolist())\n",
    "print(\"----------------------------------------\")\n",
    "print(\"Ratings:\", df_ratings.columns.tolist())\n",
    "print(\"----------------------------------------\")\n",
    "print(\"Tags:\", df_tags.columns.tolist())"
   ]
  },
  {
   "cell_type": "markdown",
   "metadata": {
    "id": "1Q1mD1rqHvOX"
   },
   "source": [
    "# **Perfilamiento y entendimiento de los datos**\n",
    "Obtendremos estadísticas descriptivas pertinentes y posteriormente ingresaremos el conjunto de datos a Pandas Profiling para obtener un reporte adecuado de correlación e interacción entre variables."
   ]
  },
  {
   "cell_type": "code",
   "execution_count": 10,
   "metadata": {
    "colab": {
     "base_uri": "https://localhost:8080/"
    },
    "id": "QFZEZy9yHu_-",
    "outputId": "401bd861-b7b9-462a-c4fa-46479ea5f9f3"
   },
   "outputs": [
    {
     "name": "stdout",
     "output_type": "stream",
     "text": [
      "<class 'pandas.core.frame.DataFrame'>\n",
      "RangeIndex: 9742 entries, 0 to 9741\n",
      "Data columns (total 3 columns):\n",
      " #   Column   Non-Null Count  Dtype  \n",
      "---  ------   --------------  -----  \n",
      " 0   movieId  9742 non-null   int64  \n",
      " 1   imdbId   9742 non-null   int64  \n",
      " 2   tmdbId   9734 non-null   float64\n",
      "dtypes: float64(1), int64(2)\n",
      "memory usage: 228.5 KB\n"
     ]
    }
   ],
   "source": [
    "df_links.info()"
   ]
  },
  {
   "cell_type": "code",
   "execution_count": 11,
   "metadata": {
    "colab": {
     "base_uri": "https://localhost:8080/"
    },
    "id": "vce6cP9LXQiy",
    "outputId": "f50c98e4-18d5-4162-9699-85a26ac4fbff"
   },
   "outputs": [
    {
     "name": "stdout",
     "output_type": "stream",
     "text": [
      "<class 'pandas.core.frame.DataFrame'>\n",
      "Int64Index: 9734 entries, 0 to 9741\n",
      "Data columns (total 3 columns):\n",
      " #   Column   Non-Null Count  Dtype  \n",
      "---  ------   --------------  -----  \n",
      " 0   movieId  9734 non-null   int64  \n",
      " 1   imdbId   9734 non-null   int64  \n",
      " 2   tmdbId   9734 non-null   float64\n",
      "dtypes: float64(1), int64(2)\n",
      "memory usage: 304.2 KB\n"
     ]
    }
   ],
   "source": [
    "df_l = df_links.dropna()\n",
    "df_l.info()"
   ]
  },
  {
   "cell_type": "markdown",
   "metadata": {
    "id": "K6FN5T4ctwg-"
   },
   "source": [
    "La Tabla df_l no tiene nulos en la columna tmbdId, además sus ids son valores entetos, lo que permite la fácil interacción con el API de esta DB"
   ]
  },
  {
   "cell_type": "code",
   "execution_count": 12,
   "metadata": {
    "colab": {
     "base_uri": "https://localhost:8080/"
    },
    "id": "R02KX0zoYMjp",
    "outputId": "0ac11220-7698-44b6-9152-a29df8c1a0cc"
   },
   "outputs": [
    {
     "name": "stdout",
     "output_type": "stream",
     "text": [
      "<class 'pandas.core.frame.DataFrame'>\n",
      "Int64Index: 9734 entries, 0 to 9741\n",
      "Data columns (total 3 columns):\n",
      " #   Column   Non-Null Count  Dtype\n",
      "---  ------   --------------  -----\n",
      " 0   movieId  9734 non-null   int64\n",
      " 1   imdbId   9734 non-null   int64\n",
      " 2   tmdbId   9734 non-null   int64\n",
      "dtypes: int64(3)\n",
      "memory usage: 304.2 KB\n"
     ]
    }
   ],
   "source": [
    "df_l = df_l.astype(np.int64)\n",
    "df_l.info()"
   ]
  },
  {
   "cell_type": "markdown",
   "metadata": {
    "id": "_Awy9e4Mt-ik"
   },
   "source": [
    "Debido a que Neo4j no permite tener nodos con valores diferentes, se va a eliminar de los ratings y movies las películas con el mismo nombre y año de publicación.\n",
    "\n",
    "Un ejemplo de estas son las películas \"Emma (1996)\", que tienen exactamente el mismo nombre pero diferente id"
   ]
  },
  {
   "cell_type": "code",
   "execution_count": 13,
   "metadata": {
    "colab": {
     "base_uri": "https://localhost:8080/",
     "height": 112
    },
    "id": "Y0nnLAKTug5E",
    "outputId": "03ee600a-29e6-4c8d-a6d2-de4faf28b602"
   },
   "outputs": [
    {
     "data": {
      "text/html": [
       "<div>\n",
       "<style scoped>\n",
       "    .dataframe tbody tr th:only-of-type {\n",
       "        vertical-align: middle;\n",
       "    }\n",
       "\n",
       "    .dataframe tbody tr th {\n",
       "        vertical-align: top;\n",
       "    }\n",
       "\n",
       "    .dataframe thead th {\n",
       "        text-align: right;\n",
       "    }\n",
       "</style>\n",
       "<table border=\"1\" class=\"dataframe\">\n",
       "  <thead>\n",
       "    <tr style=\"text-align: right;\">\n",
       "      <th></th>\n",
       "      <th>movieId</th>\n",
       "      <th>title</th>\n",
       "      <th>genres</th>\n",
       "    </tr>\n",
       "  </thead>\n",
       "  <tbody>\n",
       "    <tr>\n",
       "      <th>650</th>\n",
       "      <td>838</td>\n",
       "      <td>Emma (1996)</td>\n",
       "      <td>Comedy|Drama|Romance</td>\n",
       "    </tr>\n",
       "    <tr>\n",
       "      <th>5601</th>\n",
       "      <td>26958</td>\n",
       "      <td>Emma (1996)</td>\n",
       "      <td>Romance</td>\n",
       "    </tr>\n",
       "  </tbody>\n",
       "</table>\n",
       "</div>"
      ],
      "text/plain": [
       "      movieId        title                genres\n",
       "650       838  Emma (1996)  Comedy|Drama|Romance\n",
       "5601    26958  Emma (1996)               Romance"
      ]
     },
     "execution_count": 13,
     "metadata": {},
     "output_type": "execute_result"
    }
   ],
   "source": [
    "ejemplo_duplicado = df_movies[df_movies['title'] == 'Emma (1996)']\n",
    "ejemplo_duplicado"
   ]
  },
  {
   "cell_type": "code",
   "execution_count": 14,
   "metadata": {
    "colab": {
     "base_uri": "https://localhost:8080/"
    },
    "id": "YZ2hCi1_usH_",
    "outputId": "ee88a7fd-ac12-48d8-f4ce-403d3a22bf88"
   },
   "outputs": [
    {
     "data": {
      "text/plain": [
       "(9742, 3)"
      ]
     },
     "execution_count": 14,
     "metadata": {},
     "output_type": "execute_result"
    }
   ],
   "source": [
    "df_movies.shape"
   ]
  },
  {
   "cell_type": "code",
   "execution_count": 15,
   "metadata": {
    "colab": {
     "base_uri": "https://localhost:8080/",
     "height": 81
    },
    "id": "uGGotb8bvC3d",
    "outputId": "e3e2e544-3b18-4b74-d034-ee228f8289c5"
   },
   "outputs": [
    {
     "data": {
      "text/html": [
       "<div>\n",
       "<style scoped>\n",
       "    .dataframe tbody tr th:only-of-type {\n",
       "        vertical-align: middle;\n",
       "    }\n",
       "\n",
       "    .dataframe tbody tr th {\n",
       "        vertical-align: top;\n",
       "    }\n",
       "\n",
       "    .dataframe thead th {\n",
       "        text-align: right;\n",
       "    }\n",
       "</style>\n",
       "<table border=\"1\" class=\"dataframe\">\n",
       "  <thead>\n",
       "    <tr style=\"text-align: right;\">\n",
       "      <th></th>\n",
       "      <th>movieId</th>\n",
       "      <th>title</th>\n",
       "      <th>genres</th>\n",
       "    </tr>\n",
       "  </thead>\n",
       "  <tbody>\n",
       "    <tr>\n",
       "      <th>650</th>\n",
       "      <td>838</td>\n",
       "      <td>Emma (1996)</td>\n",
       "      <td>Comedy|Drama|Romance</td>\n",
       "    </tr>\n",
       "    <tr>\n",
       "      <th>5601</th>\n",
       "      <td>26958</td>\n",
       "      <td>Emma (1996)</td>\n",
       "      <td>Romance</td>\n",
       "    </tr>\n",
       "  </tbody>\n",
       "</table>\n",
       "</div>"
      ],
      "text/plain": [
       "      movieId        title                genres\n",
       "650       838  Emma (1996)  Comedy|Drama|Romance\n",
       "5601    26958  Emma (1996)               Romance"
      ]
     },
     "execution_count": 15,
     "metadata": {},
     "output_type": "execute_result"
    }
   ],
   "source": [
    "ejemplo_no_duplicado = df_movies[df_movies['title'] == 'Emma (1996)']\n",
    "ejemplo_no_duplicado"
   ]
  },
  {
   "cell_type": "code",
   "execution_count": 16,
   "metadata": {
    "colab": {
     "base_uri": "https://localhost:8080/"
    },
    "id": "0W7dBSwMt8sH",
    "outputId": "d01fc614-0aa0-4542-bb0a-5858b01dccb7"
   },
   "outputs": [
    {
     "data": {
      "text/plain": [
       "(9737, 3)"
      ]
     },
     "execution_count": 16,
     "metadata": {},
     "output_type": "execute_result"
    }
   ],
   "source": [
    "df_movies = df_movies.drop_duplicates(subset = ['title'], keep = 'last')\n",
    "df_movies.shape"
   ]
  },
  {
   "cell_type": "markdown",
   "metadata": {
    "id": "Cs8AILwbvI8o"
   },
   "source": [
    "Con esto vimos que se eliminaron 5 películas"
   ]
  },
  {
   "cell_type": "markdown",
   "metadata": {
    "id": "UMryp76wuyVB"
   },
   "source": [
    "Ahora, vamos a eliminar las películas del DF df_movies que no tienen un ID correspondiente en TMDB. Esto debido a que vamos a trabajar con esta API."
   ]
  },
  {
   "cell_type": "code",
   "execution_count": 17,
   "metadata": {
    "colab": {
     "base_uri": "https://localhost:8080/"
    },
    "id": "4QK_u69qux6U",
    "outputId": "bd08dd87-5d11-4999-cf15-b3fa1bad14ec"
   },
   "outputs": [
    {
     "data": {
      "text/plain": [
       "(9731, 3)"
      ]
     },
     "execution_count": 17,
     "metadata": {},
     "output_type": "execute_result"
    }
   ],
   "source": [
    "df_movies = df_movies[df_movies['movieId'].isin(df_l['movieId'])]\n",
    "df_movies.shape"
   ]
  },
  {
   "cell_type": "code",
   "execution_count": 18,
   "metadata": {},
   "outputs": [],
   "source": [
    "df_movies.to_csv('df_m.csv', encoding='utf-8')"
   ]
  },
  {
   "cell_type": "markdown",
   "metadata": {
    "id": "5HmHdBgyvwId"
   },
   "source": [
    "Con esto, obtuvimos un Dataframe que no tiene películas repetidas por nombre y año de publicación, y además, tiene un Id en TMDB"
   ]
  },
  {
   "cell_type": "markdown",
   "metadata": {
    "id": "hY7emuztv7Sj"
   },
   "source": [
    "Ahora vamos a procedes a elimiar las reviews, links y tags de las películas que no se encuentren en el DF df_movies. Con esto aseguramos que los datos sean consistentes entre los dataframes"
   ]
  },
  {
   "cell_type": "markdown",
   "metadata": {
    "id": "XjQ9mTGpw_zf"
   },
   "source": [
    "## Consistencia en DF: Links"
   ]
  },
  {
   "cell_type": "code",
   "execution_count": 19,
   "metadata": {
    "colab": {
     "base_uri": "https://localhost:8080/"
    },
    "id": "d8NJzSjPwUW4",
    "outputId": "058bc495-6555-4444-aaa2-39882b2ae0eb"
   },
   "outputs": [
    {
     "data": {
      "text/plain": [
       "(9734, 3)"
      ]
     },
     "execution_count": 19,
     "metadata": {},
     "output_type": "execute_result"
    }
   ],
   "source": [
    "df_l.shape"
   ]
  },
  {
   "cell_type": "code",
   "execution_count": 20,
   "metadata": {
    "colab": {
     "base_uri": "https://localhost:8080/"
    },
    "id": "zU7NeW-awL5e",
    "outputId": "03d4e4dc-79d7-448e-9dc3-3f090454fdcc"
   },
   "outputs": [
    {
     "data": {
      "text/plain": [
       "(9731, 3)"
      ]
     },
     "execution_count": 20,
     "metadata": {},
     "output_type": "execute_result"
    }
   ],
   "source": [
    "df_l = df_l[df_l['movieId'].isin(df_movies['movieId'])]\n",
    "df_l.shape"
   ]
  },
  {
   "cell_type": "markdown",
   "metadata": {
    "id": "SgRpXjVRxDtR"
   },
   "source": [
    "## Consistencia en DF: Ratings"
   ]
  },
  {
   "cell_type": "code",
   "execution_count": 21,
   "metadata": {
    "colab": {
     "base_uri": "https://localhost:8080/"
    },
    "id": "ze5uj6nvwX-L",
    "outputId": "889a564f-8b35-4c35-8281-c2288b891b6e"
   },
   "outputs": [
    {
     "name": "stdout",
     "output_type": "stream",
     "text": [
      "Número de movieId diferentes: 9724\n"
     ]
    }
   ],
   "source": [
    "num_unique_movies = df_ratings['movieId'].nunique()\n",
    "\n",
    "# Imprimir el resultado\n",
    "print(\"Número de movieId diferentes:\", num_unique_movies)"
   ]
  },
  {
   "cell_type": "code",
   "execution_count": 22,
   "metadata": {
    "colab": {
     "base_uri": "https://localhost:8080/"
    },
    "id": "cpjvXjySxMZM",
    "outputId": "7437e02d-a455-4dbb-f96b-f43d4eeda036"
   },
   "outputs": [
    {
     "data": {
      "text/plain": [
       "(100836, 4)"
      ]
     },
     "execution_count": 22,
     "metadata": {},
     "output_type": "execute_result"
    }
   ],
   "source": [
    "df_ratings.shape"
   ]
  },
  {
   "cell_type": "code",
   "execution_count": 23,
   "metadata": {
    "colab": {
     "base_uri": "https://localhost:8080/"
    },
    "id": "Xt9FFbJkxQCg",
    "outputId": "6f5676dd-f829-41e1-e3e1-ed2710c15cbb"
   },
   "outputs": [
    {
     "data": {
      "text/plain": [
       "(100728, 4)"
      ]
     },
     "execution_count": 23,
     "metadata": {},
     "output_type": "execute_result"
    }
   ],
   "source": [
    "df_ratings = df_ratings[df_ratings['movieId'].isin(df_movies['movieId'])]\n",
    "df_ratings.shape"
   ]
  },
  {
   "cell_type": "markdown",
   "metadata": {
    "id": "g28h_Qk0oF_m"
   },
   "source": [
    "# Creación de los modelos\n"
   ]
  },
  {
   "cell_type": "markdown",
   "metadata": {
    "id": "PZtujRWGoLw7"
   },
   "source": [
    "En esta sección se diseñarán los modelos que serán implementados en el front de la aplicación. Algunos de ellos son On-Premise, pero otros son entrenados previamente e importados."
   ]
  },
  {
   "cell_type": "markdown",
   "metadata": {
    "id": "UloPudQaoN8_"
   },
   "source": [
    "## Modelo de filtrado colaborativo"
   ]
  },
  {
   "cell_type": "code",
   "execution_count": 61,
   "metadata": {
    "id": "yn67u5RSoRcB"
   },
   "outputs": [],
   "source": [
    "from surprise import Dataset, Reader, KNNWithZScore, accuracy\n",
    "from surprise.model_selection import train_test_split\n",
    "\n",
    "df = df_ratings[['userId', 'movieId', 'rating']]\n",
    "\n",
    "#Cargar datos\n",
    "reader = Reader(rating_scale=(1, 5))\n",
    "data = Dataset.load_from_df(df, reader)\n",
    "\n",
    "# Split data\n",
    "trainset, testset = train_test_split(data, test_size=0.2, random_state=seed)"
   ]
  },
  {
   "cell_type": "code",
   "execution_count": 98,
   "metadata": {
    "colab": {
     "base_uri": "https://localhost:8080/"
    },
    "id": "NU2jWauhpYjc",
    "outputId": "b85d7601-fed0-4d71-e81e-888be75d2d2f"
   },
   "outputs": [
    {
     "name": "stdout",
     "output_type": "stream",
     "text": [
      "Best score: 0.8852908000023623\n",
      "Best parameters: {'k': 40, 'sim_options': {'name': 'pearson_baseline', 'user_based': False, 'verbose': False}, 'verbose': False}\n"
     ]
    }
   ],
   "source": [
    "from surprise.model_selection import GridSearchCV\n",
    "\n",
    "param_grid = {'k': [10, 20, 30, 40, 50],\n",
    "              'sim_options': {'name': ['pearson','pearson_baseline'], # pearson, pearson_baseline\n",
    "                              'user_based': [False],\n",
    "                              'verbose': [False],  \n",
    "                             },\n",
    "              'verbose': [False]\n",
    "             }\n",
    "# Set up the grid search\n",
    "gs = GridSearchCV(KNNWithZScore, param_grid, measures=['rmse', 'mae'], cv=5, n_jobs=-1)\n",
    "\n",
    "# Fit the grid search on the dataset\n",
    "gs.fit(trainset)\n",
    "\n",
    "# Print the best score and parameters\n",
    "print('Best score:', gs.best_score['rmse'])\n",
    "print('Best parameters:', gs.best_params['rmse'])"
   ]
  },
  {
   "cell_type": "code",
   "execution_count": 162,
   "metadata": {},
   "outputs": [],
   "source": [
    "# Save the model\n",
    "from surprise import dump\n",
    "\n",
    "# Factorization model\n",
    "#knn = KNNWithZScore(k = 10, sim_options = {'name': 'pearson', 'user_based': False, 'verbose': False}, 'verbose': False})\n",
    "knn = KNNWithZScore(k = gs.best_params['rmse']['k'], sim_options=gs.best_params['rmse']['sim_options'], random_state=seed, verbose=False)\n",
    "knn.fit(trainset)\n",
    "\n",
    "dump.dump('knn.pkl', algo=knn)"
   ]
  },
  {
   "cell_type": "markdown",
   "metadata": {
    "id": "VmNThkV3vHQ5"
   },
   "source": [
    "# Enriquecimiento Semántico\n",
    "\n",
    "Se utilizará la página web themoviedb.org para proveer un APIKey y con esto obtener mayor información de las películas para realizar el enriquecimiento semántico\n"
   ]
  },
  {
   "cell_type": "code",
   "execution_count": 24,
   "metadata": {
    "colab": {
     "base_uri": "https://localhost:8080/"
    },
    "id": "lK4WpKRqvVsP",
    "outputId": "f73f4082-4f5e-4e01-e8bc-202182fde1ec"
   },
   "outputs": [
    {
     "name": "stdout",
     "output_type": "stream",
     "text": [
      "{\"adult\":false,\"backdrop_path\":\"/hZkgoQYus5vegHoetLkCJzb17zJ.jpg\",\"belongs_to_collection\":null,\"budget\":63000000,\"genres\":[{\"id\":18,\"name\":\"Drama\"},{\"id\":53,\"name\":\"Thriller\"},{\"id\":35,\"name\":\"Comedy\"}],\"homepage\":\"http://www.foxmovies.com/movies/fight-club\",\"id\":550,\"imdb_id\":\"tt0137523\",\"original_language\":\"en\",\"original_title\":\"Fight Club\",\"overview\":\"A ticking-time-bomb insomniac and a slippery soap salesman channel primal male aggression into a shocking new form of therapy. Their concept catches on, with underground \\\"fight clubs\\\" forming in every town, until an eccentric gets in the way and ignites an out-of-control spiral toward oblivion.\",\"popularity\":70.038,\"poster_path\":\"/pB8BM7pdSp6B6Ih7QZ4DrQ3PmJK.jpg\",\"production_companies\":[{\"id\":508,\"logo_path\":\"/7cxRWzi4LsVm4Utfpr1hfARNurT.png\",\"name\":\"Regency Enterprises\",\"origin_country\":\"US\"},{\"id\":711,\"logo_path\":\"/tEiIH5QesdheJmDAqQwvtN60727.png\",\"name\":\"Fox 2000 Pictures\",\"origin_country\":\"US\"},{\"id\":20555,\"logo_path\":\"/hD8yEGUBlHOcfHYbujp71vD8gZp.png\",\"name\":\"Taurus Film\",\"origin_country\":\"DE\"},{\"id\":54051,\"logo_path\":null,\"name\":\"Atman Entertainment\",\"origin_country\":\"\"},{\"id\":54052,\"logo_path\":null,\"name\":\"Knickerbocker Films\",\"origin_country\":\"US\"},{\"id\":4700,\"logo_path\":\"/A32wmjrs9Psf4zw0uaixF0GXfxq.png\",\"name\":\"The Linson Company\",\"origin_country\":\"US\"},{\"id\":25,\"logo_path\":\"/qZCc1lty5FzX30aOCVRBLzaVmcp.png\",\"name\":\"20th Century Fox\",\"origin_country\":\"US\"}],\"production_countries\":[{\"iso_3166_1\":\"US\",\"name\":\"United States of America\"}],\"release_date\":\"1999-10-15\",\"revenue\":100853753,\"runtime\":139,\"spoken_languages\":[{\"english_name\":\"English\",\"iso_639_1\":\"en\",\"name\":\"English\"}],\"status\":\"Released\",\"tagline\":\"Mischief. Mayhem. Soap.\",\"title\":\"Fight Club\",\"video\":false,\"vote_average\":8.434,\"vote_count\":26515}\n"
     ]
    }
   ],
   "source": [
    "import requests\n",
    "\n",
    "url = \"https://api.themoviedb.org/3/movie/550?api_key=e41c8a68517883ed8a2d66aca50b3371\"\n",
    "\n",
    "headers = {\"accept\": \"application/json\"}\n",
    "\n",
    "response = requests.get(url, headers=headers)\n",
    "\n",
    "print(response.text)"
   ]
  },
  {
   "cell_type": "markdown",
   "metadata": {
    "id": "ttGPCLeIJDbj"
   },
   "source": [
    "Utilizaremos el wrapper TMDB simple para obtener más información de las películas\n",
    "\n",
    "https://github.com/celiao/tmdbsimple"
   ]
  },
  {
   "cell_type": "code",
   "execution_count": 25,
   "metadata": {
    "id": "kasd0rYS0Xd3"
   },
   "outputs": [],
   "source": [
    "import tmdbsimple as tmdb\n",
    "tmdb.API_KEY = 'e41c8a68517883ed8a2d66aca50b3371'\n",
    "\n",
    "tmdb.REQUESTS_TIMEOUT = 5  # seconds, for both connect and read"
   ]
  },
  {
   "cell_type": "code",
   "execution_count": 26,
   "metadata": {
    "colab": {
     "base_uri": "https://localhost:8080/",
     "height": 423
    },
    "id": "yQyBXv4hfCie",
    "outputId": "667f8344-57b3-4265-9a0b-294e383cc7a1"
   },
   "outputs": [
    {
     "data": {
      "text/html": [
       "<div>\n",
       "<style scoped>\n",
       "    .dataframe tbody tr th:only-of-type {\n",
       "        vertical-align: middle;\n",
       "    }\n",
       "\n",
       "    .dataframe tbody tr th {\n",
       "        vertical-align: top;\n",
       "    }\n",
       "\n",
       "    .dataframe thead th {\n",
       "        text-align: right;\n",
       "    }\n",
       "</style>\n",
       "<table border=\"1\" class=\"dataframe\">\n",
       "  <thead>\n",
       "    <tr style=\"text-align: right;\">\n",
       "      <th></th>\n",
       "      <th>movieId</th>\n",
       "      <th>title</th>\n",
       "      <th>genres</th>\n",
       "    </tr>\n",
       "  </thead>\n",
       "  <tbody>\n",
       "    <tr>\n",
       "      <th>0</th>\n",
       "      <td>1</td>\n",
       "      <td>Toy Story (1995)</td>\n",
       "      <td>Adventure|Animation|Children|Comedy|Fantasy</td>\n",
       "    </tr>\n",
       "    <tr>\n",
       "      <th>1</th>\n",
       "      <td>2</td>\n",
       "      <td>Jumanji (1995)</td>\n",
       "      <td>Adventure|Children|Fantasy</td>\n",
       "    </tr>\n",
       "    <tr>\n",
       "      <th>2</th>\n",
       "      <td>3</td>\n",
       "      <td>Grumpier Old Men (1995)</td>\n",
       "      <td>Comedy|Romance</td>\n",
       "    </tr>\n",
       "    <tr>\n",
       "      <th>3</th>\n",
       "      <td>4</td>\n",
       "      <td>Waiting to Exhale (1995)</td>\n",
       "      <td>Comedy|Drama|Romance</td>\n",
       "    </tr>\n",
       "    <tr>\n",
       "      <th>4</th>\n",
       "      <td>5</td>\n",
       "      <td>Father of the Bride Part II (1995)</td>\n",
       "      <td>Comedy</td>\n",
       "    </tr>\n",
       "    <tr>\n",
       "      <th>...</th>\n",
       "      <td>...</td>\n",
       "      <td>...</td>\n",
       "      <td>...</td>\n",
       "    </tr>\n",
       "    <tr>\n",
       "      <th>9737</th>\n",
       "      <td>193581</td>\n",
       "      <td>Black Butler: Book of the Atlantic (2017)</td>\n",
       "      <td>Action|Animation|Comedy|Fantasy</td>\n",
       "    </tr>\n",
       "    <tr>\n",
       "      <th>9738</th>\n",
       "      <td>193583</td>\n",
       "      <td>No Game No Life: Zero (2017)</td>\n",
       "      <td>Animation|Comedy|Fantasy</td>\n",
       "    </tr>\n",
       "    <tr>\n",
       "      <th>9739</th>\n",
       "      <td>193585</td>\n",
       "      <td>Flint (2017)</td>\n",
       "      <td>Drama</td>\n",
       "    </tr>\n",
       "    <tr>\n",
       "      <th>9740</th>\n",
       "      <td>193587</td>\n",
       "      <td>Bungo Stray Dogs: Dead Apple (2018)</td>\n",
       "      <td>Action|Animation</td>\n",
       "    </tr>\n",
       "    <tr>\n",
       "      <th>9741</th>\n",
       "      <td>193609</td>\n",
       "      <td>Andrew Dice Clay: Dice Rules (1991)</td>\n",
       "      <td>Comedy</td>\n",
       "    </tr>\n",
       "  </tbody>\n",
       "</table>\n",
       "<p>9731 rows × 3 columns</p>\n",
       "</div>"
      ],
      "text/plain": [
       "      movieId                                      title  \\\n",
       "0           1                           Toy Story (1995)   \n",
       "1           2                             Jumanji (1995)   \n",
       "2           3                    Grumpier Old Men (1995)   \n",
       "3           4                   Waiting to Exhale (1995)   \n",
       "4           5         Father of the Bride Part II (1995)   \n",
       "...       ...                                        ...   \n",
       "9737   193581  Black Butler: Book of the Atlantic (2017)   \n",
       "9738   193583               No Game No Life: Zero (2017)   \n",
       "9739   193585                               Flint (2017)   \n",
       "9740   193587        Bungo Stray Dogs: Dead Apple (2018)   \n",
       "9741   193609        Andrew Dice Clay: Dice Rules (1991)   \n",
       "\n",
       "                                           genres  \n",
       "0     Adventure|Animation|Children|Comedy|Fantasy  \n",
       "1                      Adventure|Children|Fantasy  \n",
       "2                                  Comedy|Romance  \n",
       "3                            Comedy|Drama|Romance  \n",
       "4                                          Comedy  \n",
       "...                                           ...  \n",
       "9737              Action|Animation|Comedy|Fantasy  \n",
       "9738                     Animation|Comedy|Fantasy  \n",
       "9739                                        Drama  \n",
       "9740                             Action|Animation  \n",
       "9741                                       Comedy  \n",
       "\n",
       "[9731 rows x 3 columns]"
      ]
     },
     "execution_count": 26,
     "metadata": {},
     "output_type": "execute_result"
    }
   ],
   "source": [
    "df_movies"
   ]
  },
  {
   "cell_type": "code",
   "execution_count": 27,
   "metadata": {
    "colab": {
     "base_uri": "https://localhost:8080/",
     "height": 423
    },
    "id": "d5WGXJGaOhVn",
    "outputId": "a3e8ad2d-7c55-4bfa-b979-1a11f7200314"
   },
   "outputs": [
    {
     "data": {
      "text/html": [
       "<div>\n",
       "<style scoped>\n",
       "    .dataframe tbody tr th:only-of-type {\n",
       "        vertical-align: middle;\n",
       "    }\n",
       "\n",
       "    .dataframe tbody tr th {\n",
       "        vertical-align: top;\n",
       "    }\n",
       "\n",
       "    .dataframe thead th {\n",
       "        text-align: right;\n",
       "    }\n",
       "</style>\n",
       "<table border=\"1\" class=\"dataframe\">\n",
       "  <thead>\n",
       "    <tr style=\"text-align: right;\">\n",
       "      <th></th>\n",
       "      <th>movieId</th>\n",
       "      <th>title</th>\n",
       "    </tr>\n",
       "  </thead>\n",
       "  <tbody>\n",
       "    <tr>\n",
       "      <th>0</th>\n",
       "      <td>1</td>\n",
       "      <td>Toy Story (1995)</td>\n",
       "    </tr>\n",
       "    <tr>\n",
       "      <th>1</th>\n",
       "      <td>2</td>\n",
       "      <td>Jumanji (1995)</td>\n",
       "    </tr>\n",
       "    <tr>\n",
       "      <th>2</th>\n",
       "      <td>3</td>\n",
       "      <td>Grumpier Old Men (1995)</td>\n",
       "    </tr>\n",
       "    <tr>\n",
       "      <th>3</th>\n",
       "      <td>4</td>\n",
       "      <td>Waiting to Exhale (1995)</td>\n",
       "    </tr>\n",
       "    <tr>\n",
       "      <th>4</th>\n",
       "      <td>5</td>\n",
       "      <td>Father of the Bride Part II (1995)</td>\n",
       "    </tr>\n",
       "    <tr>\n",
       "      <th>...</th>\n",
       "      <td>...</td>\n",
       "      <td>...</td>\n",
       "    </tr>\n",
       "    <tr>\n",
       "      <th>9737</th>\n",
       "      <td>193581</td>\n",
       "      <td>Black Butler: Book of the Atlantic (2017)</td>\n",
       "    </tr>\n",
       "    <tr>\n",
       "      <th>9738</th>\n",
       "      <td>193583</td>\n",
       "      <td>No Game No Life: Zero (2017)</td>\n",
       "    </tr>\n",
       "    <tr>\n",
       "      <th>9739</th>\n",
       "      <td>193585</td>\n",
       "      <td>Flint (2017)</td>\n",
       "    </tr>\n",
       "    <tr>\n",
       "      <th>9740</th>\n",
       "      <td>193587</td>\n",
       "      <td>Bungo Stray Dogs: Dead Apple (2018)</td>\n",
       "    </tr>\n",
       "    <tr>\n",
       "      <th>9741</th>\n",
       "      <td>193609</td>\n",
       "      <td>Andrew Dice Clay: Dice Rules (1991)</td>\n",
       "    </tr>\n",
       "  </tbody>\n",
       "</table>\n",
       "<p>9731 rows × 2 columns</p>\n",
       "</div>"
      ],
      "text/plain": [
       "      movieId                                      title\n",
       "0           1                           Toy Story (1995)\n",
       "1           2                             Jumanji (1995)\n",
       "2           3                    Grumpier Old Men (1995)\n",
       "3           4                   Waiting to Exhale (1995)\n",
       "4           5         Father of the Bride Part II (1995)\n",
       "...       ...                                        ...\n",
       "9737   193581  Black Butler: Book of the Atlantic (2017)\n",
       "9738   193583               No Game No Life: Zero (2017)\n",
       "9739   193585                               Flint (2017)\n",
       "9740   193587        Bungo Stray Dogs: Dead Apple (2018)\n",
       "9741   193609        Andrew Dice Clay: Dice Rules (1991)\n",
       "\n",
       "[9731 rows x 2 columns]"
      ]
     },
     "execution_count": 27,
     "metadata": {},
     "output_type": "execute_result"
    }
   ],
   "source": [
    "df_m_extended = df_movies.copy()\n",
    "df_m_extended = df_m_extended.drop(['genres'], axis=1)\n",
    "df_m_extended"
   ]
  },
  {
   "cell_type": "code",
   "execution_count": 28,
   "metadata": {
    "id": "Txz9OdGlPpCZ"
   },
   "outputs": [],
   "source": [
    "from tqdm import tqdm"
   ]
  },
  {
   "cell_type": "code",
   "execution_count": null,
   "metadata": {
    "colab": {
     "base_uri": "https://localhost:8080/",
     "height": 1000
    },
    "id": "zTsAUZiZFvTk",
    "outputId": "93d6c075-29b7-4636-e75d-f75309c78970"
   },
   "outputs": [],
   "source": [
    "for row in tqdm(df_l.itertuples(name=\"Link\")):\n",
    "    movieId,_,tmdbId = row.movieId, row.imdbId, int(row.tmdbId)\n",
    "    movie = tmdb.Movies(tmdbId)\n",
    "    actors = np.nan\n",
    "    director = np.nan\n",
    "    keyWords = np.nan\n",
    "    sim_mov = np.nan\n",
    "    watch_prov = np.nan\n",
    "    \n",
    "    try:\n",
    "        actors = [c[\"name\"] for c in movie.credits()[\"cast\"]]\n",
    "        director = [c[\"name\"] for c in filter(lambda x: x[\"job\"]==\"Director\", movie.crew)][0]\n",
    "\n",
    "        #SERENDIPIA\n",
    "\n",
    "        keyWords = [kw[\"name\"] for kw in movie.keywords()[\"keywords\"]]\n",
    "        sim_mov = [s[\"title\"] for s in movie.similar_movies()[\"results\"]]\n",
    "        watch_prov = [wp[\"provider_name\"] for wp in movie.watch_providers()[\"results\"][\"US\"][\"flatrate\"]]\n",
    "\n",
    "    except Exception as e:\n",
    "        print(f\"the movie with id: {movieId}, and tmdbId: {tmdbId} was not found.\")\n",
    "        print(e)\n",
    "\n",
    "    #GUARDAR EN DATA SET EXTENDIDO\n",
    "    df_m_extended.loc[df_m_extended['movieId'] == movieId, 'actors'] = ', '.join(actors[:5]) if actors is not np.nan else np.nan\n",
    "    df_m_extended.loc[df_m_extended['movieId'] == movieId, 'director'] = director if director is not np.nan else np.nan\n",
    "    df_m_extended.loc[df_m_extended['movieId'] == movieId, 'keyWords'] = ', '.join(keyWords[:5]) if keyWords is not np.nan else np.nan\n",
    "    df_m_extended.loc[df_m_extended['movieId'] == movieId, 'similarMovies'] = ', '.join(sim_mov[:5]) if sim_mov is not np.nan else np.nan\n",
    "    df_m_extended.loc[df_m_extended['movieId'] == movieId, 'watchProviders'] = ', '.join(watch_prov) if watch_prov is not np.nan else np.nan\n",
    "\n",
    "#json.dump(tmdbmovies,currentdatapath/\"tmdbmovies.json\")\n",
    "#tmdbmovies[:5]"
   ]
  },
  {
   "cell_type": "code",
   "execution_count": null,
   "metadata": {
    "colab": {
     "base_uri": "https://localhost:8080/",
     "height": 624
    },
    "id": "kB6XqkEbp-lN",
    "outputId": "1fa7c265-21f6-4d83-df88-8657279303e9"
   },
   "outputs": [],
   "source": [
    "df_m_extended"
   ]
  },
  {
   "cell_type": "code",
   "execution_count": 153,
   "metadata": {},
   "outputs": [
    {
     "data": {
      "text/plain": [
       "Index(['Unnamed: 0', 'Unnamed: 0.1', 'movieId', 'title', 'actors', 'director',\n",
       "       'keyWords', 'similarMovies', 'watchProviders'],\n",
       "      dtype='object')"
      ]
     },
     "execution_count": 153,
     "metadata": {},
     "output_type": "execute_result"
    }
   ],
   "source": [
    "df_m_extended.columns"
   ]
  },
  {
   "cell_type": "code",
   "execution_count": 158,
   "metadata": {},
   "outputs": [],
   "source": [
    "df_m_extended = df_m_extended.loc[df_m_extended['actors'].isna() == False]"
   ]
  },
  {
   "cell_type": "code",
   "execution_count": 159,
   "metadata": {},
   "outputs": [],
   "source": [
    "df_m_extended.to_csv('df_movies.csv', encoding='utf-8', index=False)"
   ]
  },
  {
   "cell_type": "markdown",
   "metadata": {
    "id": "758Y01s_86iU"
   },
   "source": [
    "# Ontological data"
   ]
  },
  {
   "cell_type": "code",
   "execution_count": 31,
   "metadata": {},
   "outputs": [
    {
     "data": {
      "text/html": [
       "<div>\n",
       "<style scoped>\n",
       "    .dataframe tbody tr th:only-of-type {\n",
       "        vertical-align: middle;\n",
       "    }\n",
       "\n",
       "    .dataframe tbody tr th {\n",
       "        vertical-align: top;\n",
       "    }\n",
       "\n",
       "    .dataframe thead th {\n",
       "        text-align: right;\n",
       "    }\n",
       "</style>\n",
       "<table border=\"1\" class=\"dataframe\">\n",
       "  <thead>\n",
       "    <tr style=\"text-align: right;\">\n",
       "      <th></th>\n",
       "      <th>movieId</th>\n",
       "      <th>title</th>\n",
       "      <th>actors</th>\n",
       "      <th>director</th>\n",
       "      <th>keyWords</th>\n",
       "      <th>similarMovies</th>\n",
       "      <th>watchProviders</th>\n",
       "    </tr>\n",
       "  </thead>\n",
       "  <tbody>\n",
       "    <tr>\n",
       "      <th>0</th>\n",
       "      <td>1</td>\n",
       "      <td>Toy Story (1995)</td>\n",
       "      <td>Tom Hanks, Tim Allen, Don Rickles, Jim Varney,...</td>\n",
       "      <td>John Lasseter</td>\n",
       "      <td>martial arts, jealousy, friendship, bullying, ...</td>\n",
       "      <td>Police Story, Harlem Nights, Snow White: A Tal...</td>\n",
       "      <td>Disney Plus</td>\n",
       "    </tr>\n",
       "    <tr>\n",
       "      <th>1</th>\n",
       "      <td>2</td>\n",
       "      <td>Jumanji (1995)</td>\n",
       "      <td>Robin Williams, Kirsten Dunst, Bradley Pierce,...</td>\n",
       "      <td>Joe Johnston</td>\n",
       "      <td>giant insect, board game, jungle, disappearanc...</td>\n",
       "      <td>Medicine Man, The Jungle Book, Honey, I Shrunk...</td>\n",
       "      <td>fuboTV, Peacock Premium, AMC Plus Apple TV Cha...</td>\n",
       "    </tr>\n",
       "    <tr>\n",
       "      <th>2</th>\n",
       "      <td>3</td>\n",
       "      <td>Grumpier Old Men (1995)</td>\n",
       "      <td>Walter Matthau, Jack Lemmon, Ann-Margret, Soph...</td>\n",
       "      <td>Howard Deutch</td>\n",
       "      <td>fishing, halloween, sequel, old man, best friend</td>\n",
       "      <td>Young Guns II, Death to Smoochy, The Nutty Pro...</td>\n",
       "      <td>NaN</td>\n",
       "    </tr>\n",
       "    <tr>\n",
       "      <th>3</th>\n",
       "      <td>4</td>\n",
       "      <td>Waiting to Exhale (1995)</td>\n",
       "      <td>Whitney Houston, Angela Bassett, Loretta Devin...</td>\n",
       "      <td>Forest Whitaker</td>\n",
       "      <td>based on novel or book, interracial relationsh...</td>\n",
       "      <td>Just Cause, Love Story, The Sword in the Stone...</td>\n",
       "      <td>NaN</td>\n",
       "    </tr>\n",
       "    <tr>\n",
       "      <th>4</th>\n",
       "      <td>5</td>\n",
       "      <td>Father of the Bride Part II (1995)</td>\n",
       "      <td>Steve Martin, Diane Keaton, Martin Short, Kimb...</td>\n",
       "      <td>Charles Shyer</td>\n",
       "      <td>parent child relationship, baby, midlife crisi...</td>\n",
       "      <td>10, Little Man, Young Guns II, S.W.A.T., Welco...</td>\n",
       "      <td>Disney Plus, Hulu</td>\n",
       "    </tr>\n",
       "    <tr>\n",
       "      <th>...</th>\n",
       "      <td>...</td>\n",
       "      <td>...</td>\n",
       "      <td>...</td>\n",
       "      <td>...</td>\n",
       "      <td>...</td>\n",
       "      <td>...</td>\n",
       "      <td>...</td>\n",
       "    </tr>\n",
       "    <tr>\n",
       "      <th>9571</th>\n",
       "      <td>193581</td>\n",
       "      <td>Black Butler: Book of the Atlantic (2017)</td>\n",
       "      <td>Daisuke Ono, Maaya Sakamoto, Yukari Tamura, Ju...</td>\n",
       "      <td>Noriyuki Abe</td>\n",
       "      <td>butler, victorian england, based on manga, dar...</td>\n",
       "      <td>Seven Days War, The Time Machine, To Walk Invi...</td>\n",
       "      <td>NaN</td>\n",
       "    </tr>\n",
       "    <tr>\n",
       "      <th>9572</th>\n",
       "      <td>193583</td>\n",
       "      <td>No Game No Life: Zero (2017)</td>\n",
       "      <td>Yoko Hikasa, Ai Kayano, Yoshitsugu Matsuoka, K...</td>\n",
       "      <td>Atsuko Ishizuka</td>\n",
       "      <td>based on novel or book, anti hero, magic, post...</td>\n",
       "      <td>10, Just Cause, Love Story, The Sword in the S...</td>\n",
       "      <td>HiDive</td>\n",
       "    </tr>\n",
       "    <tr>\n",
       "      <th>9573</th>\n",
       "      <td>193585</td>\n",
       "      <td>Flint (2017)</td>\n",
       "      <td>Queen Latifah, Betsy Brandt, Rob Morrow, Marin...</td>\n",
       "      <td>Bruce Beresford</td>\n",
       "      <td>NaN</td>\n",
       "      <td>NaN</td>\n",
       "      <td>NaN</td>\n",
       "    </tr>\n",
       "    <tr>\n",
       "      <th>9574</th>\n",
       "      <td>193587</td>\n",
       "      <td>Bungo Stray Dogs: Dead Apple (2018)</td>\n",
       "      <td>Kensho Ono, Mamoru Miyano, Kisho Taniyama, Yut...</td>\n",
       "      <td>Takuya Igarashi</td>\n",
       "      <td>supernatural, mafia, based on manga, super pow...</td>\n",
       "      <td>Donnie Brasco, Thir13en Ghosts, Ghosts of War,...</td>\n",
       "      <td>Funimation Now</td>\n",
       "    </tr>\n",
       "    <tr>\n",
       "      <th>9575</th>\n",
       "      <td>193609</td>\n",
       "      <td>Andrew Dice Clay: Dice Rules (1991)</td>\n",
       "      <td>Andrew Dice Clay, Eddie Griffin, Sylvia Harman...</td>\n",
       "      <td>Jay Dubin</td>\n",
       "      <td>stand-up comedy</td>\n",
       "      <td>Gary Gulman: Boyish Man, Aries Spears: Comedy ...</td>\n",
       "      <td>NaN</td>\n",
       "    </tr>\n",
       "  </tbody>\n",
       "</table>\n",
       "<p>9576 rows × 7 columns</p>\n",
       "</div>"
      ],
      "text/plain": [
       "      movieId                                      title  \\\n",
       "0           1                           Toy Story (1995)   \n",
       "1           2                             Jumanji (1995)   \n",
       "2           3                    Grumpier Old Men (1995)   \n",
       "3           4                   Waiting to Exhale (1995)   \n",
       "4           5         Father of the Bride Part II (1995)   \n",
       "...       ...                                        ...   \n",
       "9571   193581  Black Butler: Book of the Atlantic (2017)   \n",
       "9572   193583               No Game No Life: Zero (2017)   \n",
       "9573   193585                               Flint (2017)   \n",
       "9574   193587        Bungo Stray Dogs: Dead Apple (2018)   \n",
       "9575   193609        Andrew Dice Clay: Dice Rules (1991)   \n",
       "\n",
       "                                                 actors         director  \\\n",
       "0     Tom Hanks, Tim Allen, Don Rickles, Jim Varney,...    John Lasseter   \n",
       "1     Robin Williams, Kirsten Dunst, Bradley Pierce,...     Joe Johnston   \n",
       "2     Walter Matthau, Jack Lemmon, Ann-Margret, Soph...    Howard Deutch   \n",
       "3     Whitney Houston, Angela Bassett, Loretta Devin...  Forest Whitaker   \n",
       "4     Steve Martin, Diane Keaton, Martin Short, Kimb...    Charles Shyer   \n",
       "...                                                 ...              ...   \n",
       "9571  Daisuke Ono, Maaya Sakamoto, Yukari Tamura, Ju...     Noriyuki Abe   \n",
       "9572  Yoko Hikasa, Ai Kayano, Yoshitsugu Matsuoka, K...  Atsuko Ishizuka   \n",
       "9573  Queen Latifah, Betsy Brandt, Rob Morrow, Marin...  Bruce Beresford   \n",
       "9574  Kensho Ono, Mamoru Miyano, Kisho Taniyama, Yut...  Takuya Igarashi   \n",
       "9575  Andrew Dice Clay, Eddie Griffin, Sylvia Harman...        Jay Dubin   \n",
       "\n",
       "                                               keyWords  \\\n",
       "0     martial arts, jealousy, friendship, bullying, ...   \n",
       "1     giant insect, board game, jungle, disappearanc...   \n",
       "2      fishing, halloween, sequel, old man, best friend   \n",
       "3     based on novel or book, interracial relationsh...   \n",
       "4     parent child relationship, baby, midlife crisi...   \n",
       "...                                                 ...   \n",
       "9571  butler, victorian england, based on manga, dar...   \n",
       "9572  based on novel or book, anti hero, magic, post...   \n",
       "9573                                                NaN   \n",
       "9574  supernatural, mafia, based on manga, super pow...   \n",
       "9575                                    stand-up comedy   \n",
       "\n",
       "                                          similarMovies  \\\n",
       "0     Police Story, Harlem Nights, Snow White: A Tal...   \n",
       "1     Medicine Man, The Jungle Book, Honey, I Shrunk...   \n",
       "2     Young Guns II, Death to Smoochy, The Nutty Pro...   \n",
       "3     Just Cause, Love Story, The Sword in the Stone...   \n",
       "4     10, Little Man, Young Guns II, S.W.A.T., Welco...   \n",
       "...                                                 ...   \n",
       "9571  Seven Days War, The Time Machine, To Walk Invi...   \n",
       "9572  10, Just Cause, Love Story, The Sword in the S...   \n",
       "9573                                                NaN   \n",
       "9574  Donnie Brasco, Thir13en Ghosts, Ghosts of War,...   \n",
       "9575  Gary Gulman: Boyish Man, Aries Spears: Comedy ...   \n",
       "\n",
       "                                         watchProviders  \n",
       "0                                           Disney Plus  \n",
       "1     fuboTV, Peacock Premium, AMC Plus Apple TV Cha...  \n",
       "2                                                   NaN  \n",
       "3                                                   NaN  \n",
       "4                                     Disney Plus, Hulu  \n",
       "...                                                 ...  \n",
       "9571                                                NaN  \n",
       "9572                                             HiDive  \n",
       "9573                                                NaN  \n",
       "9574                                     Funimation Now  \n",
       "9575                                                NaN  \n",
       "\n",
       "[9576 rows x 7 columns]"
      ]
     },
     "execution_count": 31,
     "metadata": {},
     "output_type": "execute_result"
    }
   ],
   "source": [
    "df_m_extended = pd.read_csv('df_movies.csv')\n",
    "df_m_extended"
   ]
  },
  {
   "cell_type": "code",
   "execution_count": 32,
   "metadata": {},
   "outputs": [
    {
     "data": {
      "text/html": [
       "<div>\n",
       "<style scoped>\n",
       "    .dataframe tbody tr th:only-of-type {\n",
       "        vertical-align: middle;\n",
       "    }\n",
       "\n",
       "    .dataframe tbody tr th {\n",
       "        vertical-align: top;\n",
       "    }\n",
       "\n",
       "    .dataframe thead th {\n",
       "        text-align: right;\n",
       "    }\n",
       "</style>\n",
       "<table border=\"1\" class=\"dataframe\">\n",
       "  <thead>\n",
       "    <tr style=\"text-align: right;\">\n",
       "      <th></th>\n",
       "      <th>movieId</th>\n",
       "      <th>title</th>\n",
       "      <th>processed_titles</th>\n",
       "      <th>actors</th>\n",
       "      <th>director</th>\n",
       "      <th>keyWords</th>\n",
       "      <th>similarMovies</th>\n",
       "      <th>watchProviders</th>\n",
       "    </tr>\n",
       "  </thead>\n",
       "  <tbody>\n",
       "    <tr>\n",
       "      <th>0</th>\n",
       "      <td>1</td>\n",
       "      <td>Toy Story (1995)</td>\n",
       "      <td>Toy_Story</td>\n",
       "      <td>Tom Hanks, Tim Allen, Don Rickles, Jim Varney,...</td>\n",
       "      <td>John Lasseter</td>\n",
       "      <td>martial arts, jealousy, friendship, bullying, ...</td>\n",
       "      <td>Police Story, Harlem Nights, Snow White: A Tal...</td>\n",
       "      <td>Disney Plus</td>\n",
       "    </tr>\n",
       "    <tr>\n",
       "      <th>1</th>\n",
       "      <td>2</td>\n",
       "      <td>Jumanji (1995)</td>\n",
       "      <td>Jumanji</td>\n",
       "      <td>Robin Williams, Kirsten Dunst, Bradley Pierce,...</td>\n",
       "      <td>Joe Johnston</td>\n",
       "      <td>giant insect, board game, jungle, disappearanc...</td>\n",
       "      <td>Medicine Man, The Jungle Book, Honey, I Shrunk...</td>\n",
       "      <td>fuboTV, Peacock Premium, AMC Plus Apple TV Cha...</td>\n",
       "    </tr>\n",
       "    <tr>\n",
       "      <th>2</th>\n",
       "      <td>3</td>\n",
       "      <td>Grumpier Old Men (1995)</td>\n",
       "      <td>Grumpier_Old_Men</td>\n",
       "      <td>Walter Matthau, Jack Lemmon, Ann-Margret, Soph...</td>\n",
       "      <td>Howard Deutch</td>\n",
       "      <td>fishing, halloween, sequel, old man, best friend</td>\n",
       "      <td>Young Guns II, Death to Smoochy, The Nutty Pro...</td>\n",
       "      <td>NaN</td>\n",
       "    </tr>\n",
       "    <tr>\n",
       "      <th>3</th>\n",
       "      <td>4</td>\n",
       "      <td>Waiting to Exhale (1995)</td>\n",
       "      <td>Waiting_to_Exhale</td>\n",
       "      <td>Whitney Houston, Angela Bassett, Loretta Devin...</td>\n",
       "      <td>Forest Whitaker</td>\n",
       "      <td>based on novel or book, interracial relationsh...</td>\n",
       "      <td>Just Cause, Love Story, The Sword in the Stone...</td>\n",
       "      <td>NaN</td>\n",
       "    </tr>\n",
       "    <tr>\n",
       "      <th>4</th>\n",
       "      <td>5</td>\n",
       "      <td>Father of the Bride Part II (1995)</td>\n",
       "      <td>Father_of_the_Bride_Part_II</td>\n",
       "      <td>Steve Martin, Diane Keaton, Martin Short, Kimb...</td>\n",
       "      <td>Charles Shyer</td>\n",
       "      <td>parent child relationship, baby, midlife crisi...</td>\n",
       "      <td>10, Little Man, Young Guns II, S.W.A.T., Welco...</td>\n",
       "      <td>Disney Plus, Hulu</td>\n",
       "    </tr>\n",
       "    <tr>\n",
       "      <th>...</th>\n",
       "      <td>...</td>\n",
       "      <td>...</td>\n",
       "      <td>...</td>\n",
       "      <td>...</td>\n",
       "      <td>...</td>\n",
       "      <td>...</td>\n",
       "      <td>...</td>\n",
       "      <td>...</td>\n",
       "    </tr>\n",
       "    <tr>\n",
       "      <th>9571</th>\n",
       "      <td>193581</td>\n",
       "      <td>Black Butler: Book of the Atlantic (2017)</td>\n",
       "      <td>Black_Butler:_Book_of_the_Atlantic</td>\n",
       "      <td>Daisuke Ono, Maaya Sakamoto, Yukari Tamura, Ju...</td>\n",
       "      <td>Noriyuki Abe</td>\n",
       "      <td>butler, victorian england, based on manga, dar...</td>\n",
       "      <td>Seven Days War, The Time Machine, To Walk Invi...</td>\n",
       "      <td>NaN</td>\n",
       "    </tr>\n",
       "    <tr>\n",
       "      <th>9572</th>\n",
       "      <td>193583</td>\n",
       "      <td>No Game No Life: Zero (2017)</td>\n",
       "      <td>No_Game_No_Life:_Zero</td>\n",
       "      <td>Yoko Hikasa, Ai Kayano, Yoshitsugu Matsuoka, K...</td>\n",
       "      <td>Atsuko Ishizuka</td>\n",
       "      <td>based on novel or book, anti hero, magic, post...</td>\n",
       "      <td>10, Just Cause, Love Story, The Sword in the S...</td>\n",
       "      <td>HiDive</td>\n",
       "    </tr>\n",
       "    <tr>\n",
       "      <th>9573</th>\n",
       "      <td>193585</td>\n",
       "      <td>Flint (2017)</td>\n",
       "      <td>Flint</td>\n",
       "      <td>Queen Latifah, Betsy Brandt, Rob Morrow, Marin...</td>\n",
       "      <td>Bruce Beresford</td>\n",
       "      <td>NaN</td>\n",
       "      <td>NaN</td>\n",
       "      <td>NaN</td>\n",
       "    </tr>\n",
       "    <tr>\n",
       "      <th>9574</th>\n",
       "      <td>193587</td>\n",
       "      <td>Bungo Stray Dogs: Dead Apple (2018)</td>\n",
       "      <td>Bungo_Stray_Dogs:_Dead_Apple</td>\n",
       "      <td>Kensho Ono, Mamoru Miyano, Kisho Taniyama, Yut...</td>\n",
       "      <td>Takuya Igarashi</td>\n",
       "      <td>supernatural, mafia, based on manga, super pow...</td>\n",
       "      <td>Donnie Brasco, Thir13en Ghosts, Ghosts of War,...</td>\n",
       "      <td>Funimation Now</td>\n",
       "    </tr>\n",
       "    <tr>\n",
       "      <th>9575</th>\n",
       "      <td>193609</td>\n",
       "      <td>Andrew Dice Clay: Dice Rules (1991)</td>\n",
       "      <td>Andrew_Dice_Clay:_Dice_Rules</td>\n",
       "      <td>Andrew Dice Clay, Eddie Griffin, Sylvia Harman...</td>\n",
       "      <td>Jay Dubin</td>\n",
       "      <td>stand-up comedy</td>\n",
       "      <td>Gary Gulman: Boyish Man, Aries Spears: Comedy ...</td>\n",
       "      <td>NaN</td>\n",
       "    </tr>\n",
       "  </tbody>\n",
       "</table>\n",
       "<p>9576 rows × 8 columns</p>\n",
       "</div>"
      ],
      "text/plain": [
       "      movieId                                      title  \\\n",
       "0           1                           Toy Story (1995)   \n",
       "1           2                             Jumanji (1995)   \n",
       "2           3                    Grumpier Old Men (1995)   \n",
       "3           4                   Waiting to Exhale (1995)   \n",
       "4           5         Father of the Bride Part II (1995)   \n",
       "...       ...                                        ...   \n",
       "9571   193581  Black Butler: Book of the Atlantic (2017)   \n",
       "9572   193583               No Game No Life: Zero (2017)   \n",
       "9573   193585                               Flint (2017)   \n",
       "9574   193587        Bungo Stray Dogs: Dead Apple (2018)   \n",
       "9575   193609        Andrew Dice Clay: Dice Rules (1991)   \n",
       "\n",
       "                        processed_titles  \\\n",
       "0                              Toy_Story   \n",
       "1                                Jumanji   \n",
       "2                       Grumpier_Old_Men   \n",
       "3                      Waiting_to_Exhale   \n",
       "4            Father_of_the_Bride_Part_II   \n",
       "...                                  ...   \n",
       "9571  Black_Butler:_Book_of_the_Atlantic   \n",
       "9572               No_Game_No_Life:_Zero   \n",
       "9573                               Flint   \n",
       "9574        Bungo_Stray_Dogs:_Dead_Apple   \n",
       "9575        Andrew_Dice_Clay:_Dice_Rules   \n",
       "\n",
       "                                                 actors         director  \\\n",
       "0     Tom Hanks, Tim Allen, Don Rickles, Jim Varney,...    John Lasseter   \n",
       "1     Robin Williams, Kirsten Dunst, Bradley Pierce,...     Joe Johnston   \n",
       "2     Walter Matthau, Jack Lemmon, Ann-Margret, Soph...    Howard Deutch   \n",
       "3     Whitney Houston, Angela Bassett, Loretta Devin...  Forest Whitaker   \n",
       "4     Steve Martin, Diane Keaton, Martin Short, Kimb...    Charles Shyer   \n",
       "...                                                 ...              ...   \n",
       "9571  Daisuke Ono, Maaya Sakamoto, Yukari Tamura, Ju...     Noriyuki Abe   \n",
       "9572  Yoko Hikasa, Ai Kayano, Yoshitsugu Matsuoka, K...  Atsuko Ishizuka   \n",
       "9573  Queen Latifah, Betsy Brandt, Rob Morrow, Marin...  Bruce Beresford   \n",
       "9574  Kensho Ono, Mamoru Miyano, Kisho Taniyama, Yut...  Takuya Igarashi   \n",
       "9575  Andrew Dice Clay, Eddie Griffin, Sylvia Harman...        Jay Dubin   \n",
       "\n",
       "                                               keyWords  \\\n",
       "0     martial arts, jealousy, friendship, bullying, ...   \n",
       "1     giant insect, board game, jungle, disappearanc...   \n",
       "2      fishing, halloween, sequel, old man, best friend   \n",
       "3     based on novel or book, interracial relationsh...   \n",
       "4     parent child relationship, baby, midlife crisi...   \n",
       "...                                                 ...   \n",
       "9571  butler, victorian england, based on manga, dar...   \n",
       "9572  based on novel or book, anti hero, magic, post...   \n",
       "9573                                                NaN   \n",
       "9574  supernatural, mafia, based on manga, super pow...   \n",
       "9575                                    stand-up comedy   \n",
       "\n",
       "                                          similarMovies  \\\n",
       "0     Police Story, Harlem Nights, Snow White: A Tal...   \n",
       "1     Medicine Man, The Jungle Book, Honey, I Shrunk...   \n",
       "2     Young Guns II, Death to Smoochy, The Nutty Pro...   \n",
       "3     Just Cause, Love Story, The Sword in the Stone...   \n",
       "4     10, Little Man, Young Guns II, S.W.A.T., Welco...   \n",
       "...                                                 ...   \n",
       "9571  Seven Days War, The Time Machine, To Walk Invi...   \n",
       "9572  10, Just Cause, Love Story, The Sword in the S...   \n",
       "9573                                                NaN   \n",
       "9574  Donnie Brasco, Thir13en Ghosts, Ghosts of War,...   \n",
       "9575  Gary Gulman: Boyish Man, Aries Spears: Comedy ...   \n",
       "\n",
       "                                         watchProviders  \n",
       "0                                           Disney Plus  \n",
       "1     fuboTV, Peacock Premium, AMC Plus Apple TV Cha...  \n",
       "2                                                   NaN  \n",
       "3                                                   NaN  \n",
       "4                                     Disney Plus, Hulu  \n",
       "...                                                 ...  \n",
       "9571                                                NaN  \n",
       "9572                                             HiDive  \n",
       "9573                                                NaN  \n",
       "9574                                     Funimation Now  \n",
       "9575                                                NaN  \n",
       "\n",
       "[9576 rows x 8 columns]"
      ]
     },
     "execution_count": 32,
     "metadata": {},
     "output_type": "execute_result"
    }
   ],
   "source": [
    "import pandas as pd\n",
    "import re\n",
    "\n",
    "def preprocess_movie_name(movie_name):\n",
    "    # Remove parentheses and their contents using regular expressions\n",
    "    processed_name = re.sub(r'\\([^()]*\\)', '', movie_name)\n",
    "    \n",
    "    # Remove leading/trailing whitespace\n",
    "    processed_name = processed_name.strip()\n",
    "    processed_name = processed_name.replace(' ','_')\n",
    "    \n",
    "    return processed_name\n",
    "\n",
    "def process_titles(df):\n",
    "    processed_titles = []\n",
    "    for index, row in df.iterrows():\n",
    "        movie_name = row['title']\n",
    "        processed_name = preprocess_movie_name(movie_name)\n",
    "        processed_titles.append(processed_name)\n",
    "\n",
    "    df['processed_titles'] = processed_titles\n",
    "    df = df[['movieId', 'title', 'processed_titles', 'actors', 'director', 'keyWords', 'similarMovies', 'watchProviders']]\n",
    "    return df\n",
    "\n",
    "df_o_movies = df_m_extended.copy()\n",
    "df_o_movies = process_titles(df_o_movies)\n",
    "df_o_movies"
   ]
  },
  {
   "cell_type": "code",
   "execution_count": 111,
   "metadata": {},
   "outputs": [],
   "source": [
    "from SPARQLWrapper import SPARQLWrapper, JSON\n",
    "import ast\n",
    "\n",
    "def transform_list_of_strings(strings):\n",
    "    transformed_list = [ast.literal_eval(string) for string in strings]\n",
    "    return transformed_list\n",
    "\n",
    "def replace_film(movies_list):\n",
    "    movies = []\n",
    "    remove = [\" film\", \" (film)\"]\n",
    "    for movie in movies_list:  \n",
    "        for i in remove:            \n",
    "            movie = movie.replace(i,\"\").strip()\n",
    "        movies.append(movie)    \n",
    "    return movies\n",
    "\n",
    "def get_movie_names_from_dbpedia(movie_uris):\n",
    "    # Create a SPARQLWrapper instance and set the DBpedia endpoint URL\n",
    "    sparql = SPARQLWrapper(\"http://dbpedia.org/sparql\")\n",
    "    movies_names = []\n",
    "    \n",
    "    for i in range(0, len(movie_uris), 5):\n",
    "        movies = movie_uris[i:i+5]\n",
    "        # Compose the SPARQL query to retrieve the movie names\n",
    "        query = \"\"\"\n",
    "        PREFIX rdfs: <http://www.w3.org/2000/01/rdf-schema#>\n",
    "\n",
    "        SELECT ?movieName\n",
    "        WHERE {\n",
    "          VALUES ?movie {\n",
    "            %s\n",
    "          }\n",
    "          ?movie rdfs:label ?movieName .\n",
    "          FILTER (lang(?movieName) = 'en')\n",
    "        }\n",
    "        \"\"\" % ' '.join(['<'+uri+'>' for uri in movies])\n",
    "\n",
    "        # Set the SPARQL query and request JSON results\n",
    "        sparql.setQuery(query)\n",
    "        sparql.setReturnFormat(JSON)\n",
    "\n",
    "        # Execute the SPARQL query and retrieve the results\n",
    "        results = sparql.query().convert()\n",
    "\n",
    "        # Extract the movie names from the results\n",
    "        movie_names_extract = [result['movieName']['value'] for result in results['results']['bindings']]\n",
    "        movies_names.extend(movie_names_extract)\n",
    "    return movies_names  \n",
    "\n",
    "def get_movie_names_from_dbpedia(movie_uris):\n",
    "    # Create a SPARQLWrapper instance and set the DBpedia endpoint URL\n",
    "    sparql = SPARQLWrapper(\"http://dbpedia.org/sparql\")\n",
    "   \n",
    "    # Compose the SPARQL query to retrieve the movie names\n",
    "    query = \"\"\"\n",
    "    PREFIX rdfs: <http://www.w3.org/2000/01/rdf-schema#>\n",
    "\n",
    "    SELECT ?movieName\n",
    "    WHERE {\n",
    "      VALUES ?movie {\n",
    "        %s\n",
    "      }\n",
    "      ?movie rdfs:label ?movieName .\n",
    "      FILTER (lang(?movieName) = 'en')\n",
    "    }\n",
    "    \"\"\" % ' '.join(['<'+uri+'>' for uri in movie_uris])\n",
    "\n",
    "    # Set the SPARQL query and request JSON results\n",
    "    sparql.setQuery(query)\n",
    "    sparql.setReturnFormat(JSON)\n",
    "\n",
    "    # Execute the SPARQL query and retrieve the results\n",
    "    results = sparql.query().convert()\n",
    "\n",
    "    # Extract the movie names from the results\n",
    "    movies_names = [result['movieName']['value'] for result in results['results']['bindings']]\n",
    "    return movies_names  \n",
    "\n",
    "def get_similar_movies_by_starring(movie_title, actors_names):\n",
    "    # Create a SPARQLWrapper instance and set the DBpedia endpoint URL\n",
    "    sparql = SPARQLWrapper(\"http://dbpedia.org/sparql\")\n",
    "    \n",
    "    actors_names = [string.replace(\" \", \"_\") for string in actors_names]\n",
    "  \n",
    "    # Compose the SPARQL query to retrieve similar movies based on shared actors\n",
    "    query = \"\"\"\n",
    "    PREFIX dbo: <http://dbpedia.org/ontology/>\n",
    "    PREFIX dbr: <http://dbpedia.org/resource/>\n",
    "\n",
    "    SELECT DISTINCT ?similarMovie\n",
    "    WHERE {\n",
    "      ?similarMovie dbo:starring ?actor .\n",
    "      FILTER (?actor IN (%s))\n",
    "      FILTER (?similarMovie != dbr:%s)\n",
    "    }\n",
    "    ORDER BY RAND()\n",
    "    LIMIT 100\n",
    "    \"\"\" % (\", \".join([\"dbr:\" + actor_name for actor_name in actors_names]), movie_title)\n",
    "    \n",
    "    # Set the SPARQL query and request JSON results\n",
    "    sparql.setQuery(query)\n",
    "    sparql.setReturnFormat(JSON)\n",
    "\n",
    "    # Execute the SPARQL query and retrieve the results\n",
    "    results = sparql.query().convert()\n",
    "\n",
    "    # Extract the similar movie URIs from the results\n",
    "    similar_movies = [result['similarMovie']['value'] for result in results['results']['bindings']]\n",
    "    similar_movies = get_movie_names_from_dbpedia(similar_movies)\n",
    "    return similar_movies\n",
    "\n",
    "def get_similar_movies_by_director(movie_title, director_name):\n",
    "    # Create a SPARQLWrapper instance and set the DBpedia endpoint URL\n",
    "    sparql = SPARQLWrapper(\"http://dbpedia.org/sparql\")\n",
    "    \n",
    "    director_name = director_name.strip().replace(\" \", \"_\")\n",
    "     \n",
    "    # Compose the SPARQL query to retrieve similar movies based on shared actors\n",
    "    query = \"\"\"\n",
    "    PREFIX dbo: <http://dbpedia.org/ontology/>\n",
    "    PREFIX dbr: <http://dbpedia.org/resource/>\n",
    "\n",
    "    SELECT DISTINCT ?similarMovie\n",
    "    WHERE {\n",
    "      ?similarMovie dbo:director ?director .\n",
    "      FILTER (?director = dbr:%s)\n",
    "      FILTER (?similarMovie != dbr:%s)\n",
    "    }\n",
    "    ORDER BY RAND()\n",
    "    LIMIT 50\n",
    "    \"\"\" % (director_name, movie_title)\n",
    "\n",
    "    # Set the SPARQL query and request JSON results\n",
    "    sparql.setQuery(query)\n",
    "    sparql.setReturnFormat(JSON)\n",
    "\n",
    "    # Execute the SPARQL query and retrieve the results\n",
    "    results = sparql.query().convert()\n",
    "\n",
    "    # Extract the similar movie URIs from the results\n",
    "    similar_movies = [result['similarMovie']['value'] for result in results['results']['bindings']]\n",
    "    similar_movies = get_movie_names_from_dbpedia(similar_movies)\n",
    "    return similar_movies"
   ]
  },
  {
   "cell_type": "code",
   "execution_count": 119,
   "metadata": {},
   "outputs": [],
   "source": [
    "title = 'Blade Runner 2049 (2017)'\n",
    "director = 'Denis Villeneuve'\n",
    "actors = ['Ryan Gosling', 'Harrison Ford', 'Ana de Armas', 'Jon Voight', 'Tom Sizemore']\n",
    "\n",
    "# Iterate over the DataFrame and call the get_similar_movies function for each movie\n",
    "def get_ontological_data(movie_title, director_name, actors_names):\n",
    "    similar_movies_starring = get_similar_movies_by_starring(movie_title, actors_names)\n",
    "    similar_movies_actors = get_similar_movies_by_director(movie_title, director)    \n",
    "    similar_movies_starring.extend(similar_movies_actors)\n",
    "    \n",
    "    similar_movies = replace_film(list(set(similar_movies_starring)))\n",
    "    \n",
    "    # Create a DataFrame with a single column\n",
    "    df = pd.DataFrame({'similar_movies': similar_movies})\n",
    "    \n",
    "    return df\n",
    "\n",
    "def get_tmbd_id(movie):\n",
    "    try:\n",
    "        search = tmdb.Search()\n",
    "        response = search.movie(query=movie)\n",
    "        response_id = response[\"results\"][0]['id']\n",
    "        return response_id\n",
    "    except:\n",
    "        return np.nan    \n",
    "    \n",
    "def join_ontological_data(df_ontological):    \n",
    "    df_ontological['tmdbId'] = np.nan\n",
    "    df_ontological['tmdbId'] = df_ontological['similar_movies'].apply(lambda x: get_tmbd_id(x))\n",
    "    df_ontological['tmdbId'] = df_ontological['tmdbId'].fillna(0).astype(int)\n",
    "    \n",
    "    columns = [\"tmdbId\", \"movieId\", \"title\", \"actors\", \"director\", \"keyWords\", \"similarMovies\", \"watchProviders\"]\n",
    "\n",
    "    df_merged = df_ontological.merge(df_l[['tmdbId', 'movieId']], on='tmdbId', how='left')\n",
    "    df_merged = df_merged.dropna()\n",
    "    df_merged = df_merged.merge(df_m_extended, on='movieId', how='left')\n",
    "    df_merged = df_merged[columns]\n",
    "    df_merged = df_merged.loc[df_merged['actors'].isna() == False]\n",
    "    df_merged['movieId'] = df_merged['movieId'].astype(int)\n",
    "    return df_merged\n",
    "    \n",
    "def knn_predict(user_id, item_id):\n",
    "    knn_prediction = knn.predict(user_id, item_id).est\n",
    "    return knn_prediction"
   ]
  },
  {
   "cell_type": "code",
   "execution_count": 115,
   "metadata": {},
   "outputs": [],
   "source": [
    "# Cargamos los modelos\n",
    "from surprise import dump\n",
    "knn = dump.load('knn.pkl')[1]\n",
    "df = df_ratings[['userId', 'movieId', 'rating']]"
   ]
  },
  {
   "cell_type": "code",
   "execution_count": 138,
   "metadata": {},
   "outputs": [
    {
     "name": "stdout",
     "output_type": "stream",
     "text": [
      "Data retrieved: 47\n",
      "\n",
      "Ontological filtered movies: {103042, 45186, 2948, 2947, 517, 2181, 50954, 1275, 3984, 529, 2194, 1303, 92439, 6298, 43677, 44709, 809, 5033, 6057, 2605, 46, 2993, 4019, 1590, 1208, 168248, 3513, 1601, 1610, 4812, 6990, 5071, 164179, 6996, 6870, 53464, 6365, 3423, 3424, 358, 998, 2153, 176371, 139644, 2555, 7292, 86781}\n",
      "\n",
      "Reviewed: {1, 515, 261, 265, 266, 527, 531, 21, 150, 534, 153, 410, 34, 290, 36, 39, 296, 300, 50, 58, 316, 318, 457, 588, 589, 590, 592, 594, 595, 596, 597, 344, 474, 475, 349, 608, 357, 232, 364, 110, 367, 247, 380, 253}\n",
      "\n",
      "Unreviewed: {103042, 2947, 2948, 517, 45186, 2181, 50954, 3984, 529, 2194, 1303, 92439, 6298, 43677, 44709, 809, 5033, 6057, 2605, 46, 2993, 4019, 1590, 2555, 1208, 168248, 3513, 1601, 1610, 4812, 6990, 5071, 7292, 164179, 6996, 6870, 53464, 6365, 3423, 3424, 358, 998, 2153, 176371, 1275, 139644, 86781}\n",
      "\n",
      "Total movies unreviewed: 47\n",
      "\n",
      "Predicting movies...\n",
      "Retrieving data from DBPedia...\n",
      "\n",
      "User: 5\n",
      "\n",
      "Movie title: Just Cause (1995)\n",
      "Director: Arne Glimcher\n",
      "Actors: ['Sean Connery', 'Laurence Fishburne', 'Blair Underwood', 'Kate Capshaw', 'Ruby Dee']\n",
      "\n"
     ]
    },
    {
     "data": {
      "text/html": [
       "<div>\n",
       "<style scoped>\n",
       "    .dataframe tbody tr th:only-of-type {\n",
       "        vertical-align: middle;\n",
       "    }\n",
       "\n",
       "    .dataframe tbody tr th {\n",
       "        vertical-align: top;\n",
       "    }\n",
       "\n",
       "    .dataframe thead th {\n",
       "        text-align: right;\n",
       "    }\n",
       "</style>\n",
       "<table border=\"1\" class=\"dataframe\">\n",
       "  <thead>\n",
       "    <tr style=\"text-align: right;\">\n",
       "      <th></th>\n",
       "      <th>movieId</th>\n",
       "      <th>prediction</th>\n",
       "      <th>percentage</th>\n",
       "      <th>tmdbId</th>\n",
       "      <th>title</th>\n",
       "      <th>actors</th>\n",
       "      <th>director</th>\n",
       "      <th>keyWords</th>\n",
       "      <th>similarMovies</th>\n",
       "      <th>watchProviders</th>\n",
       "    </tr>\n",
       "  </thead>\n",
       "  <tbody>\n",
       "    <tr>\n",
       "      <th>0</th>\n",
       "      <td>86781</td>\n",
       "      <td>4.247920</td>\n",
       "      <td>84.96%</td>\n",
       "      <td>46738</td>\n",
       "      <td>Incendies (2010)</td>\n",
       "      <td>Lubna Azabal, Mélissa Désormeaux-Poulin, Maxim...</td>\n",
       "      <td>Denis Villeneuve</td>\n",
       "      <td>prison, middle east, rape, muslim, militia</td>\n",
       "      <td>Just Cause, Young Guns II, The Longest Yard, T...</td>\n",
       "      <td>NaN</td>\n",
       "    </tr>\n",
       "    <tr>\n",
       "      <th>1</th>\n",
       "      <td>168248</td>\n",
       "      <td>4.156063</td>\n",
       "      <td>83.12%</td>\n",
       "      <td>324552</td>\n",
       "      <td>John Wick: Chapter Two (2017)</td>\n",
       "      <td>Keanu Reeves, Common, Ian McShane, Laurence Fi...</td>\n",
       "      <td>Chad Stahelski</td>\n",
       "      <td>italy, gun, roof, hitman, secret organization</td>\n",
       "      <td>Only You, Young Guns II, Eraser, 11:14, The Av...</td>\n",
       "      <td>NaN</td>\n",
       "    </tr>\n",
       "    <tr>\n",
       "      <th>2</th>\n",
       "      <td>1303</td>\n",
       "      <td>4.118552</td>\n",
       "      <td>82.37%</td>\n",
       "      <td>983</td>\n",
       "      <td>Man Who Would Be King, The (1975)</td>\n",
       "      <td>Sean Connery, Michael Caine, Christopher Plumm...</td>\n",
       "      <td>John Huston</td>\n",
       "      <td>robbery, journalist, gold, cheating, treasure</td>\n",
       "      <td>Tristan &amp; Isolde, Only You, Harlem Nights, The...</td>\n",
       "      <td>NaN</td>\n",
       "    </tr>\n",
       "    <tr>\n",
       "      <th>3</th>\n",
       "      <td>2181</td>\n",
       "      <td>4.114334</td>\n",
       "      <td>82.29%</td>\n",
       "      <td>506</td>\n",
       "      <td>Marnie (1964)</td>\n",
       "      <td>Tippi Hedren, Sean Connery, Martin Gabel, Dian...</td>\n",
       "      <td>Alfred Hitchcock</td>\n",
       "      <td>philadelphia, pennsylvania, post traumatic str...</td>\n",
       "      <td>Tristan &amp; Isolde, 10, Police Story, Tales from...</td>\n",
       "      <td>Netflix, Netflix basic with Ads</td>\n",
       "    </tr>\n",
       "    <tr>\n",
       "      <th>4</th>\n",
       "      <td>3424</td>\n",
       "      <td>4.077714</td>\n",
       "      <td>81.55%</td>\n",
       "      <td>925</td>\n",
       "      <td>Do the Right Thing (1989)</td>\n",
       "      <td>Danny Aiello, Ossie Davis, Ruby Dee, Richard E...</td>\n",
       "      <td>Spike Lee</td>\n",
       "      <td>new york city, black people, italian american,...</td>\n",
       "      <td>1:1 Thierry Henry, 10, Just Cause, To Wong Foo...</td>\n",
       "      <td>NaN</td>\n",
       "    </tr>\n",
       "    <tr>\n",
       "      <th>5</th>\n",
       "      <td>2194</td>\n",
       "      <td>4.052778</td>\n",
       "      <td>81.06%</td>\n",
       "      <td>117</td>\n",
       "      <td>Untouchables, The (1987)</td>\n",
       "      <td>Kevin Costner, Sean Connery, Charles Martin Sm...</td>\n",
       "      <td>Brian De Palma</td>\n",
       "      <td>chicago, illinois, prohibition era, gangster, ...</td>\n",
       "      <td>Police Story, Hudson Hawk, Donnie Brasco, Ferr...</td>\n",
       "      <td>fuboTV, Paramount Plus, Paramount Plus Apple T...</td>\n",
       "    </tr>\n",
       "    <tr>\n",
       "      <th>6</th>\n",
       "      <td>5071</td>\n",
       "      <td>4.000000</td>\n",
       "      <td>80.0%</td>\n",
       "      <td>35650</td>\n",
       "      <td>Maelström (2000)</td>\n",
       "      <td>Marie-Josée Croze, Jean-Nicolas Verreault, Ste...</td>\n",
       "      <td>Denis Villeneuve</td>\n",
       "      <td>abortion</td>\n",
       "      <td>Women Is Losers, Unpregnant, First Reformed, L...</td>\n",
       "      <td>NaN</td>\n",
       "    </tr>\n",
       "    <tr>\n",
       "      <th>7</th>\n",
       "      <td>2947</td>\n",
       "      <td>3.998311</td>\n",
       "      <td>79.97%</td>\n",
       "      <td>658</td>\n",
       "      <td>Goldfinger (1964)</td>\n",
       "      <td>Sean Connery, Honor Blackman, Gert Fröbe, Shir...</td>\n",
       "      <td>Guy Hamilton</td>\n",
       "      <td>england, based on novel or book, golf, secret ...</td>\n",
       "      <td>Leave the World Behind, Just Cause, Love Story...</td>\n",
       "      <td>Paramount Plus Apple TV Channel , MGM Plus Rok...</td>\n",
       "    </tr>\n",
       "    <tr>\n",
       "      <th>8</th>\n",
       "      <td>1610</td>\n",
       "      <td>3.984626</td>\n",
       "      <td>79.69%</td>\n",
       "      <td>1669</td>\n",
       "      <td>Hunt for Red October, The (1990)</td>\n",
       "      <td>Sean Connery, Alec Baldwin, Scott Glenn, Sam N...</td>\n",
       "      <td>John McTiernan</td>\n",
       "      <td>submarine, spy, based on novel or book, cold w...</td>\n",
       "      <td>Confidential Assignment, Just Cause, Love Stor...</td>\n",
       "      <td>AMC Plus Apple TV Channel , AMC+</td>\n",
       "    </tr>\n",
       "    <tr>\n",
       "      <th>9</th>\n",
       "      <td>44709</td>\n",
       "      <td>3.909736</td>\n",
       "      <td>78.19%</td>\n",
       "      <td>13751</td>\n",
       "      <td>Akeelah and the Bee (2006)</td>\n",
       "      <td>Keke Palmer, Laurence Fishburne, Angela Basset...</td>\n",
       "      <td>Doug Atchison</td>\n",
       "      <td>black people, spelling, spelling bee</td>\n",
       "      <td>Just Cause, American Gangster, Bee Season, How...</td>\n",
       "      <td>Peacock Premium</td>\n",
       "    </tr>\n",
       "  </tbody>\n",
       "</table>\n",
       "</div>"
      ],
      "text/plain": [
       "   movieId  prediction percentage  tmdbId                              title  \\\n",
       "0    86781    4.247920     84.96%   46738                   Incendies (2010)   \n",
       "1   168248    4.156063     83.12%  324552      John Wick: Chapter Two (2017)   \n",
       "2     1303    4.118552     82.37%     983  Man Who Would Be King, The (1975)   \n",
       "3     2181    4.114334     82.29%     506                      Marnie (1964)   \n",
       "4     3424    4.077714     81.55%     925          Do the Right Thing (1989)   \n",
       "5     2194    4.052778     81.06%     117           Untouchables, The (1987)   \n",
       "6     5071    4.000000      80.0%   35650                   Maelström (2000)   \n",
       "7     2947    3.998311     79.97%     658                  Goldfinger (1964)   \n",
       "8     1610    3.984626     79.69%    1669   Hunt for Red October, The (1990)   \n",
       "9    44709    3.909736     78.19%   13751         Akeelah and the Bee (2006)   \n",
       "\n",
       "                                              actors          director  \\\n",
       "0  Lubna Azabal, Mélissa Désormeaux-Poulin, Maxim...  Denis Villeneuve   \n",
       "1  Keanu Reeves, Common, Ian McShane, Laurence Fi...    Chad Stahelski   \n",
       "2  Sean Connery, Michael Caine, Christopher Plumm...       John Huston   \n",
       "3  Tippi Hedren, Sean Connery, Martin Gabel, Dian...  Alfred Hitchcock   \n",
       "4  Danny Aiello, Ossie Davis, Ruby Dee, Richard E...         Spike Lee   \n",
       "5  Kevin Costner, Sean Connery, Charles Martin Sm...    Brian De Palma   \n",
       "6  Marie-Josée Croze, Jean-Nicolas Verreault, Ste...  Denis Villeneuve   \n",
       "7  Sean Connery, Honor Blackman, Gert Fröbe, Shir...      Guy Hamilton   \n",
       "8  Sean Connery, Alec Baldwin, Scott Glenn, Sam N...    John McTiernan   \n",
       "9  Keke Palmer, Laurence Fishburne, Angela Basset...     Doug Atchison   \n",
       "\n",
       "                                            keyWords  \\\n",
       "0         prison, middle east, rape, muslim, militia   \n",
       "1      italy, gun, roof, hitman, secret organization   \n",
       "2      robbery, journalist, gold, cheating, treasure   \n",
       "3  philadelphia, pennsylvania, post traumatic str...   \n",
       "4  new york city, black people, italian american,...   \n",
       "5  chicago, illinois, prohibition era, gangster, ...   \n",
       "6                                           abortion   \n",
       "7  england, based on novel or book, golf, secret ...   \n",
       "8  submarine, spy, based on novel or book, cold w...   \n",
       "9               black people, spelling, spelling bee   \n",
       "\n",
       "                                       similarMovies  \\\n",
       "0  Just Cause, Young Guns II, The Longest Yard, T...   \n",
       "1  Only You, Young Guns II, Eraser, 11:14, The Av...   \n",
       "2  Tristan & Isolde, Only You, Harlem Nights, The...   \n",
       "3  Tristan & Isolde, 10, Police Story, Tales from...   \n",
       "4  1:1 Thierry Henry, 10, Just Cause, To Wong Foo...   \n",
       "5  Police Story, Hudson Hawk, Donnie Brasco, Ferr...   \n",
       "6  Women Is Losers, Unpregnant, First Reformed, L...   \n",
       "7  Leave the World Behind, Just Cause, Love Story...   \n",
       "8  Confidential Assignment, Just Cause, Love Stor...   \n",
       "9  Just Cause, American Gangster, Bee Season, How...   \n",
       "\n",
       "                                      watchProviders  \n",
       "0                                                NaN  \n",
       "1                                                NaN  \n",
       "2                                                NaN  \n",
       "3                    Netflix, Netflix basic with Ads  \n",
       "4                                                NaN  \n",
       "5  fuboTV, Paramount Plus, Paramount Plus Apple T...  \n",
       "6                                                NaN  \n",
       "7  Paramount Plus Apple TV Channel , MGM Plus Rok...  \n",
       "8                   AMC Plus Apple TV Channel , AMC+  \n",
       "9                                    Peacock Premium  "
      ]
     },
     "execution_count": 138,
     "metadata": {},
     "output_type": "execute_result"
    }
   ],
   "source": [
    "import random\n",
    "random.seed(seed)\n",
    "\n",
    "def get_top_n(user_id, movie_id, n, sample = 1):   \n",
    "    movie = df_m_extended.loc[df_m_extended['movieId'] == movie_id] # Movie that the users watches\n",
    "    title = preprocess_movie_name(movie['title'].values[0])\n",
    "    director = movie['director'].values[0]\n",
    "    actors = [value.strip() for value in movie['actors'].values[0].split(',')]\n",
    "       \n",
    "    # Ontological filtering\n",
    "    df_ontological = get_ontological_data(title, director, actors)\n",
    "    df_final = join_ontological_data(df_ontological)\n",
    "    \n",
    "    print(\"Data retrieved:\", len(df_final))\n",
    "    print()\n",
    "    \n",
    "    # Get all businesses the user has not reviewed\n",
    "    all_items = set(df_final['movieId'].unique())\n",
    "    reviewed_items = set(df.loc[df['userId'] == user_id]['movieId'].unique())\n",
    "    unreviewed_items = all_items - reviewed_items\n",
    "    \n",
    "    print(\"Ontological filtered movies:\", all_items)\n",
    "    print()\n",
    "    print(\"Reviewed:\",reviewed_items)\n",
    "    print()\n",
    "    print(\"Unreviewed:\", unreviewed_items)\n",
    "\n",
    "    print()\n",
    "    print(\"Total movies unreviewed:\", len(unreviewed_items))\n",
    "    print()\n",
    "   \n",
    "    unreviewed_items = list(unreviewed_items)\n",
    "    num_items = len(unreviewed_items)\n",
    "    num_sample = int(num_items * sample)\n",
    "    unreviewed_items = random.sample(unreviewed_items, num_sample)\n",
    "    \n",
    "    print(\"Predicting movies...\")\n",
    "    \n",
    "    # Make predictions for unreviewed businesses and sort by prediction\n",
    "    predictions = []\n",
    "    for item_id in unreviewed_items:\n",
    "        prediction = knn_predict(user_id, item_id)\n",
    "        predictions.append((item_id, prediction))\n",
    "        #print((business_id, prediction))\n",
    "    predictions.sort(key=lambda x: x[1], reverse=True)\n",
    "    \n",
    "    print(\"Retrieving data from DBPedia...\")\n",
    "    print()\n",
    "    \n",
    "    print(\"User:\", user_id)\n",
    "    print()\n",
    "    print(\"Movie title:\", movie['title'].values[0])\n",
    "    print(\"Director:\", director)\n",
    "    print(\"Actors:\", actors)\n",
    "    print()\n",
    "\n",
    "    # Get top n recommended businesses and their predictions\n",
    "    top_n = predictions[:n]\n",
    "    top_n_items = [x[0] for x in top_n]\n",
    "    top_n_predictions = [x[1] for x in top_n]\n",
    "    top_n_percentage = [str(round(x/5*100, 2))+\"%\" for x in top_n_predictions]\n",
    "\n",
    "    # Create DataFrame with business ids and predictions\n",
    "    columns = [\"tmdbId\", \"movieId\", \"title\", \"actors\", \"director\", \"keyWords\", \"similarMovies\", \"watchProviders\"]\n",
    "\n",
    "    df_top_n = pd.DataFrame({'movieId': top_n_items, 'prediction': top_n_predictions, 'percentage': top_n_percentage})\n",
    "    df_top_n =  pd.merge(df_top_n, df_final, on='movieId')\n",
    "    return df_top_n\n",
    "\n",
    "# Example usage of hybrid predictor\n",
    "n = 10\n",
    "user_id = 5\n",
    "movie_id = 257\n",
    "top_n_movies = get_top_n(user_id, movie_id, n)\n",
    "top_n_movies"
   ]
  }
 ],
 "metadata": {
  "availableInstances": [
   {
    "_defaultOrder": 0,
    "_isFastLaunch": true,
    "category": "General purpose",
    "gpuNum": 0,
    "hideHardwareSpecs": false,
    "memoryGiB": 4,
    "name": "ml.t3.medium",
    "vcpuNum": 2
   },
   {
    "_defaultOrder": 1,
    "_isFastLaunch": false,
    "category": "General purpose",
    "gpuNum": 0,
    "hideHardwareSpecs": false,
    "memoryGiB": 8,
    "name": "ml.t3.large",
    "vcpuNum": 2
   },
   {
    "_defaultOrder": 2,
    "_isFastLaunch": false,
    "category": "General purpose",
    "gpuNum": 0,
    "hideHardwareSpecs": false,
    "memoryGiB": 16,
    "name": "ml.t3.xlarge",
    "vcpuNum": 4
   },
   {
    "_defaultOrder": 3,
    "_isFastLaunch": false,
    "category": "General purpose",
    "gpuNum": 0,
    "hideHardwareSpecs": false,
    "memoryGiB": 32,
    "name": "ml.t3.2xlarge",
    "vcpuNum": 8
   },
   {
    "_defaultOrder": 4,
    "_isFastLaunch": true,
    "category": "General purpose",
    "gpuNum": 0,
    "hideHardwareSpecs": false,
    "memoryGiB": 8,
    "name": "ml.m5.large",
    "vcpuNum": 2
   },
   {
    "_defaultOrder": 5,
    "_isFastLaunch": false,
    "category": "General purpose",
    "gpuNum": 0,
    "hideHardwareSpecs": false,
    "memoryGiB": 16,
    "name": "ml.m5.xlarge",
    "vcpuNum": 4
   },
   {
    "_defaultOrder": 6,
    "_isFastLaunch": false,
    "category": "General purpose",
    "gpuNum": 0,
    "hideHardwareSpecs": false,
    "memoryGiB": 32,
    "name": "ml.m5.2xlarge",
    "vcpuNum": 8
   },
   {
    "_defaultOrder": 7,
    "_isFastLaunch": false,
    "category": "General purpose",
    "gpuNum": 0,
    "hideHardwareSpecs": false,
    "memoryGiB": 64,
    "name": "ml.m5.4xlarge",
    "vcpuNum": 16
   },
   {
    "_defaultOrder": 8,
    "_isFastLaunch": false,
    "category": "General purpose",
    "gpuNum": 0,
    "hideHardwareSpecs": false,
    "memoryGiB": 128,
    "name": "ml.m5.8xlarge",
    "vcpuNum": 32
   },
   {
    "_defaultOrder": 9,
    "_isFastLaunch": false,
    "category": "General purpose",
    "gpuNum": 0,
    "hideHardwareSpecs": false,
    "memoryGiB": 192,
    "name": "ml.m5.12xlarge",
    "vcpuNum": 48
   },
   {
    "_defaultOrder": 10,
    "_isFastLaunch": false,
    "category": "General purpose",
    "gpuNum": 0,
    "hideHardwareSpecs": false,
    "memoryGiB": 256,
    "name": "ml.m5.16xlarge",
    "vcpuNum": 64
   },
   {
    "_defaultOrder": 11,
    "_isFastLaunch": false,
    "category": "General purpose",
    "gpuNum": 0,
    "hideHardwareSpecs": false,
    "memoryGiB": 384,
    "name": "ml.m5.24xlarge",
    "vcpuNum": 96
   },
   {
    "_defaultOrder": 12,
    "_isFastLaunch": false,
    "category": "General purpose",
    "gpuNum": 0,
    "hideHardwareSpecs": false,
    "memoryGiB": 8,
    "name": "ml.m5d.large",
    "vcpuNum": 2
   },
   {
    "_defaultOrder": 13,
    "_isFastLaunch": false,
    "category": "General purpose",
    "gpuNum": 0,
    "hideHardwareSpecs": false,
    "memoryGiB": 16,
    "name": "ml.m5d.xlarge",
    "vcpuNum": 4
   },
   {
    "_defaultOrder": 14,
    "_isFastLaunch": false,
    "category": "General purpose",
    "gpuNum": 0,
    "hideHardwareSpecs": false,
    "memoryGiB": 32,
    "name": "ml.m5d.2xlarge",
    "vcpuNum": 8
   },
   {
    "_defaultOrder": 15,
    "_isFastLaunch": false,
    "category": "General purpose",
    "gpuNum": 0,
    "hideHardwareSpecs": false,
    "memoryGiB": 64,
    "name": "ml.m5d.4xlarge",
    "vcpuNum": 16
   },
   {
    "_defaultOrder": 16,
    "_isFastLaunch": false,
    "category": "General purpose",
    "gpuNum": 0,
    "hideHardwareSpecs": false,
    "memoryGiB": 128,
    "name": "ml.m5d.8xlarge",
    "vcpuNum": 32
   },
   {
    "_defaultOrder": 17,
    "_isFastLaunch": false,
    "category": "General purpose",
    "gpuNum": 0,
    "hideHardwareSpecs": false,
    "memoryGiB": 192,
    "name": "ml.m5d.12xlarge",
    "vcpuNum": 48
   },
   {
    "_defaultOrder": 18,
    "_isFastLaunch": false,
    "category": "General purpose",
    "gpuNum": 0,
    "hideHardwareSpecs": false,
    "memoryGiB": 256,
    "name": "ml.m5d.16xlarge",
    "vcpuNum": 64
   },
   {
    "_defaultOrder": 19,
    "_isFastLaunch": false,
    "category": "General purpose",
    "gpuNum": 0,
    "hideHardwareSpecs": false,
    "memoryGiB": 384,
    "name": "ml.m5d.24xlarge",
    "vcpuNum": 96
   },
   {
    "_defaultOrder": 20,
    "_isFastLaunch": false,
    "category": "General purpose",
    "gpuNum": 0,
    "hideHardwareSpecs": true,
    "memoryGiB": 0,
    "name": "ml.geospatial.interactive",
    "supportedImageNames": [
     "sagemaker-geospatial-v1-0"
    ],
    "vcpuNum": 0
   },
   {
    "_defaultOrder": 21,
    "_isFastLaunch": true,
    "category": "Compute optimized",
    "gpuNum": 0,
    "hideHardwareSpecs": false,
    "memoryGiB": 4,
    "name": "ml.c5.large",
    "vcpuNum": 2
   },
   {
    "_defaultOrder": 22,
    "_isFastLaunch": false,
    "category": "Compute optimized",
    "gpuNum": 0,
    "hideHardwareSpecs": false,
    "memoryGiB": 8,
    "name": "ml.c5.xlarge",
    "vcpuNum": 4
   },
   {
    "_defaultOrder": 23,
    "_isFastLaunch": false,
    "category": "Compute optimized",
    "gpuNum": 0,
    "hideHardwareSpecs": false,
    "memoryGiB": 16,
    "name": "ml.c5.2xlarge",
    "vcpuNum": 8
   },
   {
    "_defaultOrder": 24,
    "_isFastLaunch": false,
    "category": "Compute optimized",
    "gpuNum": 0,
    "hideHardwareSpecs": false,
    "memoryGiB": 32,
    "name": "ml.c5.4xlarge",
    "vcpuNum": 16
   },
   {
    "_defaultOrder": 25,
    "_isFastLaunch": false,
    "category": "Compute optimized",
    "gpuNum": 0,
    "hideHardwareSpecs": false,
    "memoryGiB": 72,
    "name": "ml.c5.9xlarge",
    "vcpuNum": 36
   },
   {
    "_defaultOrder": 26,
    "_isFastLaunch": false,
    "category": "Compute optimized",
    "gpuNum": 0,
    "hideHardwareSpecs": false,
    "memoryGiB": 96,
    "name": "ml.c5.12xlarge",
    "vcpuNum": 48
   },
   {
    "_defaultOrder": 27,
    "_isFastLaunch": false,
    "category": "Compute optimized",
    "gpuNum": 0,
    "hideHardwareSpecs": false,
    "memoryGiB": 144,
    "name": "ml.c5.18xlarge",
    "vcpuNum": 72
   },
   {
    "_defaultOrder": 28,
    "_isFastLaunch": false,
    "category": "Compute optimized",
    "gpuNum": 0,
    "hideHardwareSpecs": false,
    "memoryGiB": 192,
    "name": "ml.c5.24xlarge",
    "vcpuNum": 96
   },
   {
    "_defaultOrder": 29,
    "_isFastLaunch": true,
    "category": "Accelerated computing",
    "gpuNum": 1,
    "hideHardwareSpecs": false,
    "memoryGiB": 16,
    "name": "ml.g4dn.xlarge",
    "vcpuNum": 4
   },
   {
    "_defaultOrder": 30,
    "_isFastLaunch": false,
    "category": "Accelerated computing",
    "gpuNum": 1,
    "hideHardwareSpecs": false,
    "memoryGiB": 32,
    "name": "ml.g4dn.2xlarge",
    "vcpuNum": 8
   },
   {
    "_defaultOrder": 31,
    "_isFastLaunch": false,
    "category": "Accelerated computing",
    "gpuNum": 1,
    "hideHardwareSpecs": false,
    "memoryGiB": 64,
    "name": "ml.g4dn.4xlarge",
    "vcpuNum": 16
   },
   {
    "_defaultOrder": 32,
    "_isFastLaunch": false,
    "category": "Accelerated computing",
    "gpuNum": 1,
    "hideHardwareSpecs": false,
    "memoryGiB": 128,
    "name": "ml.g4dn.8xlarge",
    "vcpuNum": 32
   },
   {
    "_defaultOrder": 33,
    "_isFastLaunch": false,
    "category": "Accelerated computing",
    "gpuNum": 4,
    "hideHardwareSpecs": false,
    "memoryGiB": 192,
    "name": "ml.g4dn.12xlarge",
    "vcpuNum": 48
   },
   {
    "_defaultOrder": 34,
    "_isFastLaunch": false,
    "category": "Accelerated computing",
    "gpuNum": 1,
    "hideHardwareSpecs": false,
    "memoryGiB": 256,
    "name": "ml.g4dn.16xlarge",
    "vcpuNum": 64
   },
   {
    "_defaultOrder": 35,
    "_isFastLaunch": false,
    "category": "Accelerated computing",
    "gpuNum": 1,
    "hideHardwareSpecs": false,
    "memoryGiB": 61,
    "name": "ml.p3.2xlarge",
    "vcpuNum": 8
   },
   {
    "_defaultOrder": 36,
    "_isFastLaunch": false,
    "category": "Accelerated computing",
    "gpuNum": 4,
    "hideHardwareSpecs": false,
    "memoryGiB": 244,
    "name": "ml.p3.8xlarge",
    "vcpuNum": 32
   },
   {
    "_defaultOrder": 37,
    "_isFastLaunch": false,
    "category": "Accelerated computing",
    "gpuNum": 8,
    "hideHardwareSpecs": false,
    "memoryGiB": 488,
    "name": "ml.p3.16xlarge",
    "vcpuNum": 64
   },
   {
    "_defaultOrder": 38,
    "_isFastLaunch": false,
    "category": "Accelerated computing",
    "gpuNum": 8,
    "hideHardwareSpecs": false,
    "memoryGiB": 768,
    "name": "ml.p3dn.24xlarge",
    "vcpuNum": 96
   },
   {
    "_defaultOrder": 39,
    "_isFastLaunch": false,
    "category": "Memory Optimized",
    "gpuNum": 0,
    "hideHardwareSpecs": false,
    "memoryGiB": 16,
    "name": "ml.r5.large",
    "vcpuNum": 2
   },
   {
    "_defaultOrder": 40,
    "_isFastLaunch": false,
    "category": "Memory Optimized",
    "gpuNum": 0,
    "hideHardwareSpecs": false,
    "memoryGiB": 32,
    "name": "ml.r5.xlarge",
    "vcpuNum": 4
   },
   {
    "_defaultOrder": 41,
    "_isFastLaunch": false,
    "category": "Memory Optimized",
    "gpuNum": 0,
    "hideHardwareSpecs": false,
    "memoryGiB": 64,
    "name": "ml.r5.2xlarge",
    "vcpuNum": 8
   },
   {
    "_defaultOrder": 42,
    "_isFastLaunch": false,
    "category": "Memory Optimized",
    "gpuNum": 0,
    "hideHardwareSpecs": false,
    "memoryGiB": 128,
    "name": "ml.r5.4xlarge",
    "vcpuNum": 16
   },
   {
    "_defaultOrder": 43,
    "_isFastLaunch": false,
    "category": "Memory Optimized",
    "gpuNum": 0,
    "hideHardwareSpecs": false,
    "memoryGiB": 256,
    "name": "ml.r5.8xlarge",
    "vcpuNum": 32
   },
   {
    "_defaultOrder": 44,
    "_isFastLaunch": false,
    "category": "Memory Optimized",
    "gpuNum": 0,
    "hideHardwareSpecs": false,
    "memoryGiB": 384,
    "name": "ml.r5.12xlarge",
    "vcpuNum": 48
   },
   {
    "_defaultOrder": 45,
    "_isFastLaunch": false,
    "category": "Memory Optimized",
    "gpuNum": 0,
    "hideHardwareSpecs": false,
    "memoryGiB": 512,
    "name": "ml.r5.16xlarge",
    "vcpuNum": 64
   },
   {
    "_defaultOrder": 46,
    "_isFastLaunch": false,
    "category": "Memory Optimized",
    "gpuNum": 0,
    "hideHardwareSpecs": false,
    "memoryGiB": 768,
    "name": "ml.r5.24xlarge",
    "vcpuNum": 96
   },
   {
    "_defaultOrder": 47,
    "_isFastLaunch": false,
    "category": "Accelerated computing",
    "gpuNum": 1,
    "hideHardwareSpecs": false,
    "memoryGiB": 16,
    "name": "ml.g5.xlarge",
    "vcpuNum": 4
   },
   {
    "_defaultOrder": 48,
    "_isFastLaunch": false,
    "category": "Accelerated computing",
    "gpuNum": 1,
    "hideHardwareSpecs": false,
    "memoryGiB": 32,
    "name": "ml.g5.2xlarge",
    "vcpuNum": 8
   },
   {
    "_defaultOrder": 49,
    "_isFastLaunch": false,
    "category": "Accelerated computing",
    "gpuNum": 1,
    "hideHardwareSpecs": false,
    "memoryGiB": 64,
    "name": "ml.g5.4xlarge",
    "vcpuNum": 16
   },
   {
    "_defaultOrder": 50,
    "_isFastLaunch": false,
    "category": "Accelerated computing",
    "gpuNum": 1,
    "hideHardwareSpecs": false,
    "memoryGiB": 128,
    "name": "ml.g5.8xlarge",
    "vcpuNum": 32
   },
   {
    "_defaultOrder": 51,
    "_isFastLaunch": false,
    "category": "Accelerated computing",
    "gpuNum": 1,
    "hideHardwareSpecs": false,
    "memoryGiB": 256,
    "name": "ml.g5.16xlarge",
    "vcpuNum": 64
   },
   {
    "_defaultOrder": 52,
    "_isFastLaunch": false,
    "category": "Accelerated computing",
    "gpuNum": 4,
    "hideHardwareSpecs": false,
    "memoryGiB": 192,
    "name": "ml.g5.12xlarge",
    "vcpuNum": 48
   },
   {
    "_defaultOrder": 53,
    "_isFastLaunch": false,
    "category": "Accelerated computing",
    "gpuNum": 4,
    "hideHardwareSpecs": false,
    "memoryGiB": 384,
    "name": "ml.g5.24xlarge",
    "vcpuNum": 96
   },
   {
    "_defaultOrder": 54,
    "_isFastLaunch": false,
    "category": "Accelerated computing",
    "gpuNum": 8,
    "hideHardwareSpecs": false,
    "memoryGiB": 768,
    "name": "ml.g5.48xlarge",
    "vcpuNum": 192
   },
   {
    "_defaultOrder": 55,
    "_isFastLaunch": false,
    "category": "Accelerated computing",
    "gpuNum": 8,
    "hideHardwareSpecs": false,
    "memoryGiB": 1152,
    "name": "ml.p4d.24xlarge",
    "vcpuNum": 96
   },
   {
    "_defaultOrder": 56,
    "_isFastLaunch": false,
    "category": "Accelerated computing",
    "gpuNum": 8,
    "hideHardwareSpecs": false,
    "memoryGiB": 1152,
    "name": "ml.p4de.24xlarge",
    "vcpuNum": 96
   }
  ],
  "instance_type": "ml.m5d.4xlarge",
  "kernelspec": {
   "display_name": "Python 3 (Data Science)",
   "language": "python",
   "name": "python3__SAGEMAKER_INTERNAL__arn:aws:sagemaker:us-east-2:429704687514:image/datascience-1.0"
  },
  "language_info": {
   "codemirror_mode": {
    "name": "ipython",
    "version": 3
   },
   "file_extension": ".py",
   "mimetype": "text/x-python",
   "name": "python",
   "nbconvert_exporter": "python",
   "pygments_lexer": "ipython3",
   "version": "3.7.10"
  }
 },
 "nbformat": 4,
 "nbformat_minor": 0
}
